{
 "cells": [
  {
   "cell_type": "markdown",
   "metadata": {},
   "source": [
    "<h1>CS4619: Artificial Intelligence II</h1>\n",
    "<h1>Recurrent Neural Networks</h1>\n",
    "<h2>\n",
    "    Derek Bridge<br>\n",
    "    School of Computer Science and Information Technology<br>\n",
    "    University College Cork\n",
    "</h2>"
   ]
  },
  {
   "cell_type": "markdown",
   "metadata": {},
   "source": [
    "<h1>Initialization</h1>\n",
    "$\\newcommand{\\Set}[1]{\\{#1\\}}$ \n",
    "$\\newcommand{\\Tuple}[1]{\\langle#1\\rangle}$ \n",
    "$\\newcommand{\\v}[1]{\\pmb{#1}}$ \n",
    "$\\newcommand{\\cv}[1]{\\begin{bmatrix}#1\\end{bmatrix}}$ \n",
    "$\\newcommand{\\rv}[1]{[#1]}$ \n",
    "$\\DeclareMathOperator{\\argmax}{arg\\,max}$ \n",
    "$\\DeclareMathOperator{\\argmin}{arg\\,min}$ \n",
    "$\\DeclareMathOperator{\\dist}{dist}$\n",
    "$\\DeclareMathOperator{\\abs}{abs}$"
   ]
  },
  {
   "cell_type": "code",
   "execution_count": 35,
   "metadata": {},
   "outputs": [
    {
     "name": "stdout",
     "output_type": "stream",
     "text": [
      "The autoreload extension is already loaded. To reload it, use:\n",
      "  %reload_ext autoreload\n"
     ]
    }
   ],
   "source": [
    "%load_ext autoreload\n",
    "%autoreload 2\n",
    "%matplotlib inline"
   ]
  },
  {
   "cell_type": "code",
   "execution_count": 36,
   "metadata": {},
   "outputs": [],
   "source": [
    "import pandas as pd\n",
    "import numpy as np\n",
    "import matplotlib.pyplot as plt\n",
    "\n",
    "from sklearn.preprocessing import LabelEncoder\n",
    "\n",
    "from tensorflow.keras import Input\n",
    "from tensorflow.keras import Model\n",
    "from tensorflow.keras.layers import Dense\n",
    "from tensorflow.keras.layers import Flatten\n",
    "from tensorflow.keras.layers import SimpleRNN\n",
    "from tensorflow.keras.layers import GRU\n",
    "\n",
    "from tensorflow.keras.optimizers import RMSprop\n",
    "\n",
    "from tensorflow.keras.callbacks import EarlyStopping\n",
    "\n",
    "from tensorflow.keras.layers import TextVectorization\n",
    "from tensorflow.keras.layers import Embedding\n",
    "\n",
    "from tensorflow.keras.initializers import Constant\n",
    "\n",
    "from tensorflow import convert_to_tensor, one_hot, string, tensordot"
   ]
  },
  {
   "cell_type": "code",
   "execution_count": 37,
   "metadata": {},
   "outputs": [],
   "source": [
    "df = pd.read_csv(\"../datasets/dataset_5000_reviews.csv\")"
   ]
  },
  {
   "cell_type": "code",
   "execution_count": 38,
   "metadata": {},
   "outputs": [],
   "source": [
    "# Train/test split\n",
    "split_point = int(len(df) * 0.8)\n",
    "dev_X = df[\"review\"][:split_point]\n",
    "test_X = df[\"review\"][split_point:] \n",
    "\n",
    "# Target values, encoded and converted to a 1D numpy array\n",
    "label_encoder = LabelEncoder()\n",
    "label_encoder.fit(df[\"sentiment\"])\n",
    "dev_y = label_encoder.transform(df[\"sentiment\"][:split_point])\n",
    "test_y = label_encoder.transform(df[\"sentiment\"][split_point:])"
   ]
  },
  {
   "cell_type": "code",
   "execution_count": 39,
   "metadata": {},
   "outputs": [],
   "source": [
    "max_tokens = 20000\n",
    "max_length = 200"
   ]
  },
  {
   "cell_type": "code",
   "execution_count": 40,
   "metadata": {},
   "outputs": [],
   "source": [
    "# Create the count vectorization layer, and call adapt on the text-only dataset to create the vocabulary.\n",
    "vectorization_layer = TextVectorization(output_mode=\"int\", max_tokens=max_tokens, output_sequence_length=max_length)\n",
    "vectorization_layer.adapt(convert_to_tensor(dev_X))"
   ]
  },
  {
   "cell_type": "code",
   "execution_count": 41,
   "metadata": {},
   "outputs": [],
   "source": [
    "vocabulary = vectorization_layer.get_vocabulary()"
   ]
  },
  {
   "cell_type": "code",
   "execution_count": 42,
   "metadata": {},
   "outputs": [],
   "source": [
    "word_index = dict(zip(vocabulary, range(len(vocabulary))))"
   ]
  },
  {
   "cell_type": "code",
   "execution_count": 43,
   "metadata": {},
   "outputs": [],
   "source": [
    "# Throughout the code, we will use 100-dimensional word embeddings (including the pretrained GloVe embeddings later)\n",
    "embedding_dimension = 100"
   ]
  },
  {
   "cell_type": "code",
   "execution_count": 44,
   "metadata": {},
   "outputs": [],
   "source": [
    "# Parse the GloVe word embeddings file: produces a dictionary from words to their vectors\n",
    "\n",
    "path = \"../datasets/glove.6B.100d.txt\" # Edit this to point to your copy of the file\n",
    "\n",
    "embeddings_index = {}\n",
    "f = open(path)\n",
    "for line in f:\n",
    "    word, coefs = line.split(maxsplit=1)\n",
    "    coefs = np.fromstring(coefs, \"f\", sep=\" \")\n",
    "    embeddings_index[word] = coefs\n",
    "f.close()"
   ]
  },
  {
   "cell_type": "code",
   "execution_count": 45,
   "metadata": {},
   "outputs": [],
   "source": [
    "# Create a matrix that associates the words that we obtained from the IMDB reviews earlier \n",
    "# (in the vocabulary) with their GloVe word embeddings\n",
    "\n",
    "embedding_matrix = np.zeros((max_tokens, embedding_dimension)) \n",
    "for word, i in word_index.items():\n",
    "    if i < max_tokens:\n",
    "        word_embedding = embeddings_index.get(word)\n",
    "        if word_embedding is not None:\n",
    "            embedding_matrix[i] = word_embedding"
   ]
  },
  {
   "cell_type": "markdown",
   "metadata": {},
   "source": [
    "<h1>Acknowledgements</h1>\n",
    "<ul>\n",
    "    <li>The diagrams are based closely on ones in: A. G&eacute;ron: \n",
    "        <i>Hands-On Machine Learning with Scikit-Learn, Keras and TensorFlow (2nd edn)</i>, O'Reilly, 2019\n",
    "    </li>\n",
    "</ul>"
   ]
  },
  {
   "cell_type": "markdown",
   "metadata": {
    "collapsed": true
   },
   "source": [
    "<h1>Recurrent Neural Networks</h1>\n",
    "<ul>\n",
    "    <li>Up to now, we have looked at <b>feedforward</b> neural networks:\n",
    "        <ul>\n",
    "            <li>Activation flows in one direction: from input layer to output layer.</li>\n",
    "        </ul>\n",
    "    </li>\n",
    "    <li>A <b>Recurrent Neural Network</b> (RNN) has connections that form directed cycles:\n",
    "        <ul>\n",
    "            <li>The output at one timestep becomes an input at the next time step.</li>\n",
    "        </ul>\n",
    "    </li>\n",
    "    <li>RNNs can recognize patterns in <em>sequences</em> of data, such as text, speech, audio,\n",
    "        genomes, clickstreams and timeseries data.\n",
    "    </li>\n",
    "    <li>The big difference between the previous lecture and the present one is this:\n",
    "        <ul>\n",
    "            <li>In the previous lecture, each document was a sequence but we flattened it.</li>\n",
    "            <li>Here, we won't flatten. We will feed in each item from the sequence in turn.</li>\n",
    "        </ul>\n",
    "        But that's not all. We introduce the idea of state.\n",
    "    </li>\n",
    "</ul>"
   ]
  },
  {
   "cell_type": "markdown",
   "metadata": {},
   "source": [
    "<h1>State</h1>\n",
    "<ul>\n",
    "    <li>Feedforward networks have no memory.\n",
    "        <ul>\n",
    "            <li>Consider presenting one of our sequence examples $\\v{x}_{(1)}, \\v{x}_{(2)}, \\ldots, \\v{x}_{(\\mathit{max\\_length})}$\n",
    "                to a feedforward network.\n",
    "            </li>\n",
    "            <li>We activate the network with the first input $\\v{x}_{(1)}$.</li>\n",
    "            <li>When we present the second input, $\\v{x}_{(2)}$, the network has no memory of the first.</li>\n",
    "            <li>Illustrative pseudocode:\n",
    "                <ul style=\"background-color: lightgrey\">\n",
    "                    <li>for each $\\v{x}_{(t)}$ in the example:\n",
    "                        <ul>\n",
    "                            <li>$\\mbox{output} = f(\\v{x}_{(t)})$</li>\n",
    "                        </ul>\n",
    "                    </li>\n",
    "                </ul>\n",
    "            </li>\n",
    "        </ul>\n",
    "    </li>\n",
    "    <li>By contrast, a RNN maintains a <b>state</b>, containing information based on what it has seen so far.\n",
    "        <ul>\n",
    "            <li>Illustrative pseudocode:\n",
    "                <ul style=\"background-color: lightgrey\">\n",
    "                    <li>$\\mbox{state} = 0$</li>\n",
    "                    <li>for each $\\v{x}_{(t)}$ in the example:\n",
    "                        <ul>\n",
    "                            <li>$\\mbox{output} = f(\\v{x}_{(t)}, \\mbox{state})$</li>\n",
    "                            <li>$\\mbox{state} = \\mbox{output}$</li>\n",
    "                        </ul>\n",
    "                    </li>\n",
    "                </ul>\n",
    "            </li>\n",
    "        </ul>\n",
    "    </li>\n",
    "</ul>"
   ]
  },
  {
   "cell_type": "markdown",
   "metadata": {},
   "source": [
    "<h1>A Recurrent Neuron</h1>\n",
    "<ul>\n",
    "    <li>Consider the simplest possible case: a single recurrent neuron:\n",
    "        <figure>\n",
    "            <img src=\"images/r_neuron.png\" />\n",
    "        </figure>\n",
    "    </li>\n",
    "    <li>Consider presenting it with a single example:\n",
    "        <ul>\n",
    "            <li>At each timestep $t$ (from $1\\ldots \\mbox{max_length}$), it receives input vector $\\v{x}_{(t)}$.</li>\n",
    "            <li>Its output at time $t$ is a scalar (number), and this is fed back to itself at time $t+1$.</li>\n",
    "        </ul>\n",
    "    </li>\n",
    "    <li>We can depict the behaviour of this recurrent neuron against time:\n",
    "        <figure>\n",
    "            <img src=\"images/r_neuron_t.png\" />\n",
    "        </figure>\n",
    "        This is called <em>unrolling the network through time</em>.\n",
    "    </li>\n",
    "</ul>"
   ]
  },
  {
   "cell_type": "markdown",
   "metadata": {},
   "source": [
    "<h2>Equations</h2>\n",
    "<ul>\n",
    "    <li>The recurrent neuron will have the following weights:\n",
    "        <ul>\n",
    "            <li>$\\v{w}_x$ are the weights on the connections from the inputs, $\\v{x}_{(t)}$.</li>\n",
    "            <li>$w_a$ is the weight on the connection from the output of the previous step, \n",
    "                $a_{(t-1)}$.\n",
    "            </li>\n",
    "        </ul>\n",
    "    </li>\n",
    "    <li>So the output of this recurrent neuron is:\n",
    "        $$a_{(t)} = g(\\,\\v{x}_{(t)}\\v{w}_x + a_{(t-1)}w_a\\,+ b\\,)$$\n",
    "    </li>\n",
    "</ul>"
   ]
  },
  {
   "cell_type": "markdown",
   "metadata": {},
   "source": [
    "<h2>Activation function</h2>\n",
    "<ul>\n",
    "    <li>In hidden RNN layers, the activation function $g$ can be ReLU but is often tanh:\n",
    "        $$\\mbox{tanh}(z) = \\frac{\\sinh(z)}{\\cosh(z)} = \\frac{( e^z - e^{-z} )}{( e^z + e^{-z} )}$$\n",
    "    </li>\n",
    "</ul>"
   ]
  },
  {
   "cell_type": "code",
   "execution_count": 46,
   "metadata": {},
   "outputs": [
    {
     "data": {
      "image/png": "[encoded data removed]",
      "text/plain": [
       "<Figure size 432x288 with 1 Axes>"
      ]
     },
     "metadata": {
      "needs_background": "light"
     },
     "output_type": "display_data"
    }
   ],
   "source": [
    "fig = plt.figure()\n",
    "plt.title(\"tanh function\")\n",
    "xvals = np.linspace(-10, 10, 21)\n",
    "plt.plot(xvals, np.tanh(xvals), color = \"red\")\n",
    "plt.xlabel(\"z\")\n",
    "plt.xlim(-10, 10)\n",
    "plt.ylabel(\"$tanh(z)$\")\n",
    "plt.ylim(-1.0, 1.0)\n",
    "plt.show()"
   ]
  },
  {
   "cell_type": "markdown",
   "metadata": {},
   "source": [
    "<h2>Output shape</h2>\n",
    "<ul>\n",
    "    <li>For this single recurrent neuron,\n",
    "        <figure>\n",
    "            <img src=\"images/r_neuron_t.png\" />\n",
    "        </figure>\n",
    "        <ul>\n",
    "            <li>Input shape is $(m, \\mbox{max_length}, n)$</li>\n",
    "            <li>Output shape is $(m, \\mbox{max_length}, 1)$</li>\n",
    "        </ul>\n",
    "        This is where you want an output for every input in the sequence (i.e. one output per word).\n",
    "    </li>\n",
    "    <li>However, often we ignore all outputs except for the last one:\n",
    "        <figure>\n",
    "            <img src=\"images/r_neuron_t_ignore.png\" />\n",
    "        </figure>\n",
    "        <ul>\n",
    "            <li>Input shape is $(m, \\mbox{max_length}, n)$</li>\n",
    "            <li>Output shape is $(m, 1)$</li>\n",
    "        </ul>\n",
    "        This is where you want an output for the entire sequence (i.e. one output per document), e.g. sentiment\n",
    "        analysis.\n",
    "    </li>\n",
    "    <li>(When we're doing this in Keras, watch out for parameter <code>return_sequences</code> with\n",
    "        values <code>True</code> or <code>False</code> (default)).\n",
    "    </li>\n",
    "</ul>"
   ]
  },
  {
   "cell_type": "markdown",
   "metadata": {},
   "source": [
    "<h1>A RNN Layer</h1>\n",
    "<ul>\n",
    "    <li>More usual is a layer of several recurrent neurons:\n",
    "        <figure>\n",
    "            <img src=\"images/r_layer.png\" />\n",
    "        </figure>\n",
    "    </li>\n",
    "    <li>Consider presenting the layer with a single example:\n",
    "        <ul>\n",
    "            <li>At each timestep $t$ (from $1\\ldots \\mbox{max_length}$), each neuron receives \n",
    "                input vector $\\v{x}_{(t)}$.\n",
    "            </li>\n",
    "            <li>So we have a vector of outputs, $\\v{a}_{(t)}$, containing the output of each neuron.</li>\n",
    "            <li>The vector is fed back to each neuron at time $t+1$.</li>\n",
    "        </ul>\n",
    "    </li>\n",
    "    <li>Here it is unrolled through time:\n",
    "        <figure>\n",
    "            <img src=\"images/r_layer_t.png\" />\n",
    "        </figure>\n",
    "    </li>\n",
    "</ul>   "
   ]
  },
  {
   "cell_type": "markdown",
   "metadata": {},
   "source": [
    "<h2>Equations, again</h2>\n",
    "<ul>\n",
    "    <li>Now each recurrent neuron in the layer has two vectors of weights:\n",
    "        <ul>\n",
    "            <li>$\\v{w}_x$ are the weights on the connections from the inputs, $\\v{x}_{(t)}$.</li>\n",
    "            <li>$\\v{w}_a$ are the weights on the connections from the output of the previous step, \n",
    "                $\\v{a}_{(t-1)}$.\n",
    "            </li>\n",
    "        </ul>\n",
    "    </li>\n",
    "    <li>So the output of a given recurrent neuron in the layer is:\n",
    "        $$\\v{a}_{(t)} = g(\\,\\v{x}_{(t)}\\v{w}_x + \\v{a}_{(t-1)}\\v{w}_a\\, + b\\,)$$\n",
    "    </li>\n",
    "    <li>By introducing a lot of extra notation, we could write a vectorized form of the above\n",
    "        to compute the outputs of all the neurons in the layer for all $m$ examples in\n",
    "        a batch or mini-batch &mdash; but we won't bother here!\n",
    "    </li>\n",
    "</ul>"
   ]
  },
  {
   "cell_type": "markdown",
   "metadata": {},
   "source": [
    "<h2>Output shape, again</h2>\n",
    "<ul>\n",
    "    <li>Let's refer to the number of recurrent neurons in the layer as '$\\mbox{num_units}$'\n",
    "        <figure>\n",
    "            <img src=\"images/r_layer_t.png\" />\n",
    "        </figure>\n",
    "        <ul>\n",
    "            <li>Input shape is $(m, \\mbox{max_length}, n)$</li>\n",
    "            <li>Output shape is $(m, \\mbox{max_length}, \\mbox{num_units})$</li>\n",
    "        </ul>\n",
    "    </li>\n",
    "    <li>However, often we ignore all outputs except for the last one\n",
    "        <figure>\n",
    "            <img src=\"images/r_layer_t_ignore.png\" />\n",
    "        </figure>\n",
    "        <ul>\n",
    "            <li>Input shape is $(m, \\mbox{max_length}, n)$</li>\n",
    "            <li>Output shape is $(m, \\mbox{num_units})$</li>\n",
    "        </ul>\n",
    "    </li>\n",
    "</ul>"
   ]
  },
  {
   "cell_type": "markdown",
   "metadata": {},
   "source": [
    "<h1>Backpropagation Through Time</h1>\n",
    "<ul>\n",
    "    <li>To train an RNN, we use an algorithm callled <b>Backpropagation Through Time</b> (BPTT).\n",
    "        <ul>\n",
    "            <li>Essentially, it is backprop on the unrolled network.</li>\n",
    "            <li>But with the complication that weights are shared by all time steps in the unrolled network.</li>\n",
    "        </ul>\n",
    "    </li>\n",
    "    <li>At a high-level, BPTT works as follows:\n",
    "        <ul>\n",
    "            <li><b>Random initialization</b>: initialize all weights randomly</li>\n",
    "            <li><b>Forward propagation</b>: make predictions for all the training examples in the mini-batch\n",
    "            </li>\n",
    "            <li><b>Backpropagation</b>: calculate error signals working back through the unrolled network</li>\n",
    "            <li><b>Update all the weights</b>: the update to a weight is the sum of the updates made to that\n",
    "                weight over all the time steps\n",
    "            </li>\n",
    "        </ul>\n",
    "    </li>\n",
    "</ul>"
   ]
  },
  {
   "cell_type": "markdown",
   "metadata": {
    "collapsed": true
   },
   "source": [
    "<h1>IMDB Reviews, Again</h1>"
   ]
  },
  {
   "cell_type": "markdown",
   "metadata": {},
   "source": [
    "<ul>\n",
    "    <li>We'll use pretrained word embeddings, although we could try one-hot encoding or we could learn our\n",
    "        own embeddings.\n",
    "    </li>\n",
    "    <li>Note that we don't flatten. Instead, we have a recurrent layer.</li>\n",
    "</ul>"
   ]
  },
  {
   "cell_type": "code",
   "execution_count": 47,
   "metadata": {},
   "outputs": [
    {
     "name": "stderr",
     "output_type": "stream",
     "text": [
      "/Users/dgb/Library/CloudStorage/OneDrive-UniversityCollegeCork/AI/hvenv/lib/python3.8/site-packages/keras/optimizers/optimizer_v2/rmsprop.py:135: UserWarning: The `lr` argument is deprecated, use `learning_rate` instead.\n",
      "  super(RMSprop, self).__init__(name, **kwargs)\n"
     ]
    }
   ],
   "source": [
    "inputs = Input(shape=(1,), dtype=string)\n",
    "x = vectorization_layer(inputs)\n",
    "x = Embedding(input_dim=max_tokens, output_dim=embedding_dimension,\n",
    "            embeddings_initializer=Constant(embedding_matrix), trainable=False)(x)\n",
    "x = SimpleRNN(embedding_dimension, activation=\"tanh\", return_sequences=False)(x)\n",
    "outputs = Dense(1, activation=\"sigmoid\")(x)\n",
    "rnn = Model(inputs, outputs)\n",
    "\n",
    "rnn.compile(optimizer=RMSprop(lr=0.0001), loss=\"binary_crossentropy\", metrics=[\"acc\"])"
   ]
  },
  {
   "cell_type": "code",
   "execution_count": 48,
   "metadata": {},
   "outputs": [
    {
     "name": "stdout",
     "output_type": "stream",
     "text": [
      "Model: \"model_8\"\n",
      "_________________________________________________________________\n",
      " Layer (type)                Output Shape              Param #   \n",
      "=================================================================\n",
      " input_9 (InputLayer)        [(None, 1)]               0         \n",
      "                                                                 \n",
      " text_vectorization_1 (TextV  (None, 200)              0         \n",
      " ectorization)                                                   \n",
      "                                                                 \n",
      " embedding_8 (Embedding)     (None, 200, 100)          2000000   \n",
      "                                                                 \n",
      " simple_rnn_6 (SimpleRNN)    (None, 100)               20100     \n",
      "                                                                 \n",
      " dense_8 (Dense)             (None, 1)                 101       \n",
      "                                                                 \n",
      "=================================================================\n",
      "Total params: 2,020,201\n",
      "Trainable params: 20,201\n",
      "Non-trainable params: 2,000,000\n",
      "_________________________________________________________________\n"
     ]
    }
   ],
   "source": [
    "rnn.summary()"
   ]
  },
  {
   "cell_type": "code",
   "execution_count": 49,
   "metadata": {},
   "outputs": [],
   "source": [
    "rnn_history = rnn.fit(dev_X, dev_y, epochs=10, batch_size=32, validation_split=0.25, \n",
    "                      callbacks=[EarlyStopping(monitor=\"val_loss\", patience=2)], verbose=0)"
   ]
  },
  {
   "cell_type": "code",
   "execution_count": 50,
   "metadata": {},
   "outputs": [
    {
     "data": {
      "text/plain": [
       "<AxesSubplot:>"
      ]
     },
     "execution_count": 50,
     "metadata": {},
     "output_type": "execute_result"
    },
    {
     "data": {
      "image/png": "[encoded data removed]",
      "text/plain": [
       "<Figure size 432x288 with 1 Axes>"
      ]
     },
     "metadata": {
      "needs_background": "light"
     },
     "output_type": "display_data"
    }
   ],
   "source": [
    "pd.DataFrame(rnn_history.history).plot()"
   ]
  },
  {
   "cell_type": "markdown",
   "metadata": {},
   "source": [
    "<ul>\n",
    "    <li>In the example, note that we have <code>return_sequences=False</code>. Why?</li>\n",
    "    <li>In this next example, we will have two layers of recurrent neurons.\n",
    "        <ul>\n",
    "            <li>In the first, <code>return_sequences=True</code>. Why?</li>\n",
    "            <li>In the second, <code>return_sequences=False</code>. Why?</li>\n",
    "        </ul>\n",
    "    </li>\n",
    "</ul>"
   ]
  },
  {
   "cell_type": "code",
   "execution_count": 51,
   "metadata": {},
   "outputs": [],
   "source": [
    "inputs = Input(shape=(1,), dtype=string)\n",
    "x = vectorization_layer(inputs)\n",
    "x = Embedding(input_dim=max_tokens, output_dim=embedding_dimension,\n",
    "            embeddings_initializer=Constant(embedding_matrix), trainable=False)(x)\n",
    "x = SimpleRNN(embedding_dimension, activation=\"tanh\", return_sequences=True)(x)\n",
    "x = SimpleRNN(128, activation=\"tanh\", return_sequences=False)(x)\n",
    "outputs = Dense(1, activation=\"sigmoid\")(x)\n",
    "rnn_2 = Model(inputs, outputs)\n",
    "\n",
    "rnn_2.compile(optimizer=RMSprop(lr=0.0001), loss=\"binary_crossentropy\", metrics=[\"acc\"])"
   ]
  },
  {
   "cell_type": "code",
   "execution_count": 52,
   "metadata": {},
   "outputs": [
    {
     "name": "stdout",
     "output_type": "stream",
     "text": [
      "Model: \"model_9\"\n",
      "_________________________________________________________________\n",
      " Layer (type)                Output Shape              Param #   \n",
      "=================================================================\n",
      " input_10 (InputLayer)       [(None, 1)]               0         \n",
      "                                                                 \n",
      " text_vectorization_1 (TextV  (None, 200)              0         \n",
      " ectorization)                                                   \n",
      "                                                                 \n",
      " embedding_9 (Embedding)     (None, 200, 100)          2000000   \n",
      "                                                                 \n",
      " simple_rnn_7 (SimpleRNN)    (None, 200, 100)          20100     \n",
      "                                                                 \n",
      " simple_rnn_8 (SimpleRNN)    (None, 128)               29312     \n",
      "                                                                 \n",
      " dense_9 (Dense)             (None, 1)                 129       \n",
      "                                                                 \n",
      "=================================================================\n",
      "Total params: 2,049,541\n",
      "Trainable params: 49,541\n",
      "Non-trainable params: 2,000,000\n",
      "_________________________________________________________________\n"
     ]
    }
   ],
   "source": [
    "rnn_2.summary()"
   ]
  },
  {
   "cell_type": "code",
   "execution_count": 53,
   "metadata": {},
   "outputs": [],
   "source": [
    "rnn_2_history = rnn_2.fit(dev_X, dev_y, epochs=10, batch_size=32, validation_split=0.25, \n",
    "                          callbacks=[EarlyStopping(monitor=\"val_loss\", patience=2)], verbose=0)"
   ]
  },
  {
   "cell_type": "code",
   "execution_count": 54,
   "metadata": {},
   "outputs": [
    {
     "data": {
      "text/plain": [
       "<AxesSubplot:>"
      ]
     },
     "execution_count": 54,
     "metadata": {},
     "output_type": "execute_result"
    },
    {
     "data": {
      "image/png": "[encoded data removed]",
      "text/plain": [
       "<Figure size 432x288 with 1 Axes>"
      ]
     },
     "metadata": {
      "needs_background": "light"
     },
     "output_type": "display_data"
    }
   ],
   "source": [
    "pd.DataFrame(rnn_2_history.history).plot()"
   ]
  },
  {
   "cell_type": "markdown",
   "metadata": {},
   "source": [
    "<ul>\n",
    "    <li>Let's make a small tweak.</li>\n",
    "    <li>Reviews with fewer than 200 words have been padded using the mask token. For these reviews, the RNN will spend its last iterations seeing the mask token. The internal state of the RNN may be diminished or lost while processing these dummy inputs.\n",
    "    </li>\n",
    "    <li>In Keras, we can tell an RNN to skip these inputs.</li>\n",
    "    <li>It is done by the embedding layer generating a mask of ones and zeroes whose shape is $(n, \\mbox{max_length})$ $n$ being the batch size. The mask informs all subsequent recurrent layers to skip inputs where the mask is zero.\n",
    "    </li>\n",
    "</ul> "
   ]
  },
  {
   "cell_type": "code",
   "execution_count": 55,
   "metadata": {},
   "outputs": [],
   "source": [
    "inputs = Input(shape=(1,), dtype=string)\n",
    "x = vectorization_layer(inputs)\n",
    "x = Embedding(input_dim=max_tokens, output_dim=embedding_dimension,\n",
    "            embeddings_initializer=Constant(embedding_matrix), trainable=False, mask_zero=True)(x)\n",
    "x = SimpleRNN(embedding_dimension, activation=\"tanh\", return_sequences=True)(x)\n",
    "x = SimpleRNN(128, activation=\"tanh\", return_sequences=False)(x)\n",
    "outputs = Dense(1, activation=\"sigmoid\")(x)\n",
    "rnn_2_with_masking = Model(inputs, outputs)\n",
    "\n",
    "rnn_2_with_masking.compile(optimizer=RMSprop(lr=0.0001), loss=\"binary_crossentropy\", metrics=[\"acc\"])"
   ]
  },
  {
   "cell_type": "code",
   "execution_count": 56,
   "metadata": {},
   "outputs": [],
   "source": [
    "rnn_2_with_masking_history = rnn_2_with_masking.fit(dev_X, dev_y, epochs=10, batch_size=32, validation_split=0.25, \n",
    "                          callbacks=[EarlyStopping(monitor=\"val_loss\", patience=2)], verbose=0)"
   ]
  },
  {
   "cell_type": "code",
   "execution_count": 57,
   "metadata": {},
   "outputs": [
    {
     "data": {
      "text/plain": [
       "<AxesSubplot:>"
      ]
     },
     "execution_count": 57,
     "metadata": {},
     "output_type": "execute_result"
    },
    {
     "data": {
      "image/png": "[encoded data removed]",
      "text/plain": [
       "<Figure size 432x288 with 1 Axes>"
      ]
     },
     "metadata": {
      "needs_background": "light"
     },
     "output_type": "display_data"
    }
   ],
   "source": [
    "pd.DataFrame(rnn_2_with_masking_history.history).plot()"
   ]
  },
  {
   "cell_type": "markdown",
   "metadata": {},
   "source": [
    "<h1>Long Sequences</h1>\n",
    "<ul>\n",
    "    <li>RNNs face two problems when input sequences are long:\n",
    "        <ul>\n",
    "            <li>Long training times!</li>\n",
    "            <li>After a while, the <em>state</em> contains virtually no trace of the earliest inputs\n",
    "                in the sequence.\n",
    "                <ul>\n",
    "                    <li>If we only need a memory of recent inputs to make a good prediction, then there's no problem.</li>\n",
    "                    <li>But if there is a long-term dependency, then we have a problem.\n",
    "                        <ul>\n",
    "                            <li>E.g. Explain why it might be hard for such a network to predict the sentiment\n",
    "                                of a movie review like this one: \"I really don't think that this movie, despite\n",
    "                                its fantastic cast, brilliant script-writer, and well-loved director, was very good.\"\n",
    "                            </li>\n",
    "                        </ul>\n",
    "                    </li>\n",
    "                </ul>\n",
    "            </li>\n",
    "        </ul>\n",
    "    </li>\n",
    "    <li>There are alternatives to simple recurrent neurons that are better at preserving longer term \n",
    "        memories:\n",
    "        <ul>\n",
    "            <li>LSTM neurons and GRUs.</li>\n",
    "        </ul>\n",
    "    </li>\n",
    "</ul>"
   ]
  },
  {
   "cell_type": "markdown",
   "metadata": {},
   "source": [
    "<h2>LSTM neurons and GRUs</h2>\n",
    "<ul>\n",
    "    <li><b>Long Short-Term Memory Neurons</b> (LSTM neurons):\n",
    "        <ul>\n",
    "            <li>The key idea is to have another vector of data, the <b>carry</b> $\\v{c}_{(t)}$, to carry information\n",
    "                across timesteps:\n",
    "                <figure>\n",
    "                    <img src=\"images/lstm_t.png\" />\n",
    "                </figure>\n",
    "                <ul>\n",
    "                    <li>At timestep $t$, the LSTM neuron has only quite limited ways to add\n",
    "                        information to $c_{(t)}$ (or remove information from it) to\n",
    "                        obtain $c_{(t+1)}$.\n",
    "                    </li>       \n",
    "                </ul>\n",
    "            </li>\n",
    "            <li>We won't go into the details.\n",
    "                <ul>\n",
    "                    <li>If interested, you could read this: \n",
    "                        <a href=\"http://colah.github.io/posts/2015-08-Understanding-LSTMs/\">http://colah.github.io/posts/2015-08-Understanding-LSTMs/</a>.\n",
    "                    </li>\n",
    "                </ul>\n",
    "            </li>\n",
    "        </ul>\n",
    "    </li>\n",
    "    <li><b>Gated Recurrent Units</b> (GRUs):\n",
    "        <ul>\n",
    "            <li>GRUs are simplified versions of LSTM neurons.</li>\n",
    "            <li>They run a bit faster, yet often they are as accurate as using LSTM neurons.</li>\n",
    "        </ul>\n",
    "    </li>\n",
    "</ul>"
   ]
  },
  {
   "cell_type": "markdown",
   "metadata": {},
   "source": [
    "<h2>IMDB</h2>"
   ]
  },
  {
   "cell_type": "code",
   "execution_count": 58,
   "metadata": {},
   "outputs": [],
   "source": [
    "inputs = Input(shape=(1,), dtype=string)\n",
    "x = vectorization_layer(inputs)\n",
    "x = Embedding(input_dim=max_tokens, output_dim=embedding_dimension,\n",
    "            embeddings_initializer=Constant(embedding_matrix), trainable=False, mask_zero=True)(x)\n",
    "x = GRU(embedding_dimension, activation=\"tanh\", return_sequences=True)(x)\n",
    "x = GRU(128, activation=\"tanh\", return_sequences=False)(x)\n",
    "outputs = Dense(1, activation=\"sigmoid\")(x)\n",
    "rnn_grus = Model(inputs, outputs)\n",
    "\n",
    "rnn_grus.compile(optimizer=RMSprop(lr=0.0001), loss=\"binary_crossentropy\", metrics=[\"acc\"])"
   ]
  },
  {
   "cell_type": "code",
   "execution_count": 59,
   "metadata": {},
   "outputs": [
    {
     "name": "stdout",
     "output_type": "stream",
     "text": [
      "Model: \"model_11\"\n",
      "_________________________________________________________________\n",
      " Layer (type)                Output Shape              Param #   \n",
      "=================================================================\n",
      " input_12 (InputLayer)       [(None, 1)]               0         \n",
      "                                                                 \n",
      " text_vectorization_1 (TextV  (None, 200)              0         \n",
      " ectorization)                                                   \n",
      "                                                                 \n",
      " embedding_11 (Embedding)    (None, 200, 100)          2000000   \n",
      "                                                                 \n",
      " gru_8 (GRU)                 (None, 200, 100)          60600     \n",
      "                                                                 \n",
      " gru_9 (GRU)                 (None, 128)               88320     \n",
      "                                                                 \n",
      " dense_11 (Dense)            (None, 1)                 129       \n",
      "                                                                 \n",
      "=================================================================\n",
      "Total params: 2,149,049\n",
      "Trainable params: 149,049\n",
      "Non-trainable params: 2,000,000\n",
      "_________________________________________________________________\n"
     ]
    }
   ],
   "source": [
    "rnn_grus.summary()"
   ]
  },
  {
   "cell_type": "code",
   "execution_count": 60,
   "metadata": {},
   "outputs": [],
   "source": [
    "grus_history = rnn_grus.fit(dev_X, dev_y, epochs=10, batch_size=32, validation_split=0.25, \n",
    "                            callbacks=[EarlyStopping(monitor=\"val_loss\", patience=2)], verbose=0)"
   ]
  },
  {
   "cell_type": "code",
   "execution_count": 61,
   "metadata": {},
   "outputs": [
    {
     "data": {
      "text/plain": [
       "<AxesSubplot:>"
      ]
     },
     "execution_count": 61,
     "metadata": {},
     "output_type": "execute_result"
    },
    {
     "data": {
      "image/png": "[encoded data removed]",
      "text/plain": [
       "<Figure size 432x288 with 1 Axes>"
      ]
     },
     "metadata": {
      "needs_background": "light"
     },
     "output_type": "display_data"
    }
   ],
   "source": [
    "pd.DataFrame(grus_history.history).plot()"
   ]
  },
  {
   "cell_type": "markdown",
   "metadata": {},
   "source": [
    "<h1>Overfitting in Recurrent Neural Networks</h1>\n",
    "<ul>\n",
    "    <li>We know lots of solutions but the one we'll discuss here is dropout.</li>\n",
    "    <li>We could add a Dropout Layer before or after the GRU Layer but this may not help.\n",
    "        <ul>\n",
    "            <li>Dropout Layers before recurrent layers often hinder learning rather than\n",
    "                helping with overfitting.\n",
    "            </li>\n",
    "            <li>The problem is that it can drop out different units for each\n",
    "                input within the sequence.\n",
    "            </li>\n",
    "            <li>Instead, the same units should be dropped-out for each input within the sequence,\n",
    "                while still being random between sequences.\n",
    "            </li>\n",
    "        </ul>\n",
    "    </li>\n",
    "    <li>In Keras, we can specify:\n",
    "        <ul>\n",
    "            <li><code>dropout</code>: roughly, the dropout rate on the inputs; and</li>\n",
    "            <li><code>recurrent_dropout</code>: roughly, the dropout rate on the state.</li>\n",
    "        </ul>\n",
    "    </li>\n",
    "</ul>"
   ]
  },
  {
   "cell_type": "markdown",
   "metadata": {},
   "source": [
    "<h2>IMDB</h2>"
   ]
  },
  {
   "cell_type": "code",
   "execution_count": 62,
   "metadata": {},
   "outputs": [],
   "source": [
    "inputs = Input(shape=(1,), dtype=string)\n",
    "x = vectorization_layer(inputs)\n",
    "x = Embedding(input_dim=max_tokens, output_dim=embedding_dimension,\n",
    "            embeddings_initializer=Constant(embedding_matrix), trainable=False, mask_zero=True)(x)\n",
    "x = GRU(embedding_dimension, activation=\"tanh\", return_sequences=True, dropout=0.2, recurrent_dropout=0.2)(x)\n",
    "x = GRU(128, activation=\"tanh\", return_sequences=False, dropout=0.2, recurrent_dropout=0.2)(x)\n",
    "outputs = Dense(1, activation=\"sigmoid\")(x)\n",
    "rnn_grus_dropout = Model(inputs, outputs)\n",
    "\n",
    "rnn_grus_dropout.compile(optimizer=RMSprop(lr=0.0001), loss=\"binary_crossentropy\", metrics=[\"acc\"])"
   ]
  },
  {
   "cell_type": "code",
   "execution_count": 63,
   "metadata": {},
   "outputs": [],
   "source": [
    "dropout_history = rnn_grus_dropout.fit(dev_X, dev_y, epochs=10, batch_size=32, validation_split=0.25, \n",
    "                                       callbacks=[EarlyStopping(monitor=\"val_loss\", patience=2)], verbose=0)"
   ]
  },
  {
   "cell_type": "code",
   "execution_count": 64,
   "metadata": {},
   "outputs": [
    {
     "data": {
      "text/plain": [
       "<AxesSubplot:>"
      ]
     },
     "execution_count": 64,
     "metadata": {},
     "output_type": "execute_result"
    },
    {
     "data": {
      "image/png": "[encoded data removed]",
      "text/plain": [
       "<Figure size 432x288 with 1 Axes>"
      ]
     },
     "metadata": {
      "needs_background": "light"
     },
     "output_type": "display_data"
    }
   ],
   "source": [
    "pd.DataFrame(dropout_history.history).plot()"
   ]
  },
  {
   "cell_type": "markdown",
   "metadata": {},
   "source": [
    "<ul>\n",
    "    <li>Let's say that our best effort was the RNN with two layers of GRUs but no dropout.</li>\n",
    "    <li>Let's evaluate it on the test set.</li>\n",
    "</ul>"
   ]
  },
  {
   "cell_type": "code",
   "execution_count": 65,
   "metadata": {},
   "outputs": [
    {
     "name": "stdout",
     "output_type": "stream",
     "text": [
      "32/32 [==============================] - 2s 67ms/step - loss: 0.5491 - acc: 0.7190\n"
     ]
    },
    {
     "data": {
      "text/plain": [
       "0.718999981880188"
      ]
     },
     "execution_count": 65,
     "metadata": {},
     "output_type": "execute_result"
    }
   ],
   "source": [
    "test_loss, test_acc = rnn_grus.evaluate(test_X, test_y)\n",
    "test_acc"
   ]
  },
  {
   "cell_type": "markdown",
   "metadata": {},
   "source": [
    "<ul>\n",
    "    <li>It is ironic (or even tragic) that all these clever ideas result, in this case, in a classifier\n",
    "        whose accuracy is much, much lower than that which we obtained using bag-of-words.\n",
    "    </li>\n",
    "    <li>On the other hand, we have trained on just 5000 reviews and for just 10 epochs.</li>\n",
    "</ul>"
   ]
  },
  {
   "cell_type": "code",
   "execution_count": null,
   "metadata": {},
   "outputs": [],
   "source": []
  }
 ],
 "metadata": {
  "kernelspec": {
   "display_name": "Python 3 (ipykernel)",
   "language": "python",
   "name": "python3"
  },
  "language_info": {
   "codemirror_mode": {
    "name": "ipython",
    "version": 3
   },
   "file_extension": ".py",
   "mimetype": "text/x-python",
   "name": "python",
   "nbconvert_exporter": "python",
   "pygments_lexer": "ipython3",
   "version": "3.8.5"
  }
 },
 "nbformat": 4,
 "nbformat_minor": 1
}
