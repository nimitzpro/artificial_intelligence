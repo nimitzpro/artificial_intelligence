{
 "cells": [
  {
   "cell_type": "markdown",
   "metadata": {
    "slideshow": {
     "slide_type": "slide"
    }
   },
   "source": [
    "<h1>CS4618: Artificial Intelligence I</h1>\n",
    "<h1>Classification</h1>\n",
    "<h2>\n",
    "    Derek Bridge<br>\n",
    "    School of Computer Science and Information Technology<br>\n",
    "    University College Cork\n",
    "</h2>"
   ]
  },
  {
   "cell_type": "markdown",
   "metadata": {
    "slideshow": {
     "slide_type": "skip"
    }
   },
   "source": [
    "<h1>Initialization</h1>\n",
    "$\\newcommand{\\Set}[1]{\\{#1\\}}$ \n",
    "$\\newcommand{\\Tuple}[1]{\\langle#1\\rangle}$ \n",
    "$\\newcommand{\\v}[1]{\\pmb{#1}}$ \n",
    "$\\newcommand{\\cv}[1]{\\begin{bmatrix}#1\\end{bmatrix}}$ \n",
    "$\\newcommand{\\rv}[1]{[#1]}$ \n",
    "$\\DeclareMathOperator{\\argmax}{arg\\,max}$ \n",
    "$\\DeclareMathOperator{\\argmin}{arg\\,min}$ \n",
    "$\\DeclareMathOperator{\\dist}{dist}$\n",
    "$\\DeclareMathOperator{\\abs}{abs}$"
   ]
  },
  {
   "cell_type": "code",
   "execution_count": 1,
   "metadata": {
    "slideshow": {
     "slide_type": "skip"
    }
   },
   "outputs": [],
   "source": [
    "%reload_ext autoreload\n",
    "%autoreload 2\n",
    "%matplotlib inline"
   ]
  },
  {
   "cell_type": "code",
   "execution_count": 2,
   "metadata": {},
   "outputs": [],
   "source": [
    "import pandas as pd\n",
    "import numpy as np\n",
    "\n",
    "import matplotlib.pyplot as plt\n",
    "from ipywidgets import interactive\n",
    "\n",
    "from seaborn import lmplot, stripplot\n",
    "\n",
    "from sklearn.compose import ColumnTransformer\n",
    "from sklearn.pipeline import Pipeline\n",
    "\n",
    "from sklearn.preprocessing import LabelEncoder\n",
    "from sklearn.preprocessing import StandardScaler\n",
    "\n",
    "from sklearn.linear_model import LogisticRegression\n",
    "from sklearn.neighbors import KNeighborsClassifier"
   ]
  },
  {
   "cell_type": "markdown",
   "metadata": {
    "slideshow": {
     "slide_type": "slide"
    }
   },
   "source": [
    "<h1>Classification</h1>\n",
    "<ul>\n",
    "    <li>We want to create programs that make <b>predictions</b>.</li>\n",
    "    <li>We have been studying <b>regression</b>: <b>regressors</b> are programs that predict numeric target values.</li>\n",
    "    <li>We turn now to <b>classification</b>: <b>classifiers</b> predict an object's <b>class</b> from a \n",
    "        finite set of classes.\n",
    "    </li>\n",
    "    <li>E.g. given a vector of feature values that describe an email, predict whether the email is spam or ham.</li>\n",
    "</ul>"
   ]
  },
  {
   "cell_type": "markdown",
   "metadata": {
    "slideshow": {
     "slide_type": "slide"
    }
   },
   "source": [
    "<h2>Notation</h2>\n",
    "<ul>\n",
    "    <li>Our notation will be the same that we used for regression: \n",
    "        $\\v{x}$ for an object, $y$ for the <em>actual</em> class label,\n",
    "        $\\hat{y}$ for the <em>predicted</em> class label.\n",
    "    </li>\n",
    "    <li>We assume we have a finite set of <b>labels</b>, $\\cal{C}$, one per class.\n",
    "        <ul>\n",
    "            <li>\n",
    "                Given an object $\\v{x}$, our task is to assign one of the labels $\\hat{y} \\in \\cal{C}$ to the object.\n",
    "            </li>\n",
    "        </ul>\n",
    "    <li>We will often use integers for the labels.\n",
    "        <ul>\n",
    "            <li>E.g. given an email, a spam filter predicts $\\hat{y} \\in \\Set{0,1}$, where 0 means ham and\n",
    "                1 means spam.\n",
    "            </li>\n",
    "            <li>\n",
    "                But a classifier should not treat these as continuous, e.g. it should never output 0.5.\n",
    "            </li>\n",
    "            <li>\n",
    "                Furthermore, where there are more than two labels, we should not assume a relationship\n",
    "                between the labels.\n",
    "                <ul>\n",
    "                    <li>Suppose there are three classes $\\Set{1,2,3}$.</li>\n",
    "                    <li>Suppose we are classifying object $\\v{x}$ and we happen to know that its <em>actual</em> \n",
    "                        class label is $y = 3$.\n",
    "                    </li>\n",
    "                    <li>One classifier predicts $\\hat{y} = 1$.</li>\n",
    "                    <li>Another classifier predicts $\\hat{y} = 2$.</li>\n",
    "                    <li>Which classifier has done better?</li>\n",
    "                </ul>\n",
    "             </li>\n",
    "         </ul>\n",
    "     </li>\n",
    "</ul>"
   ]
  },
  {
   "cell_type": "markdown",
   "metadata": {
    "slideshow": {
     "slide_type": "slide"
    }
   },
   "source": [
    "<h2>A variation of classification</h2>\n",
    "<ul>\n",
    "    <li>Given an object $\\v{x}$, a classifier outputs a label, $\\hat{y} \\in \\cal{C}$.</li>\n",
    "    <li>Instead, a classifer could output a probability distribution over the labels $\\cal{C}$.\n",
    "        <ul>\n",
    "            <li>\n",
    "                E.g. given an email $\\v{x}$, a spam filter might output $\\Tuple{0.2, 0.8}$ meaning \n",
    "                $P(y = \\mathit{ham}\\,|\\, \\v{x}) = 0.2$ and $P(y = \\mathit{spam}\\,|\\, \\v{x}) = 0.8$.\n",
    "            </li>\n",
    "            <li>\n",
    "                The probabilities must sum to 1.\n",
    "            </li>\n",
    "        </ul>\n",
    "    </li>\n",
    "    <li>\n",
    "        We can convert such a classifier into a more traditional one by taking the probability distribution\n",
    "        and selecting the class with the highest probability:\n",
    "        $$\\arg \\max_{\\hat{y} \\in \\cal{C}} P(\\hat{y}\\,|\\, \\v{x})$$\n",
    "    </li>\n",
    "</ul>"
   ]
  },
  {
   "cell_type": "markdown",
   "metadata": {
    "slideshow": {
     "slide_type": "slide"
    }
   },
   "source": [
    "<h2>Types of Classification</h2>\n",
    "<ul>\n",
    "    <li>We distinguish two types of classification:\n",
    "        <ul>\n",
    "            <li>\n",
    "                <b>Binary classification</b>, in which there are just two classes, i.e. $|\\cal{C}| = 2$, \n",
    "                e.g. fail/pass, ham/spam, benign/malignant.\n",
    "            </li>\n",
    "            <li>\n",
    "                <b>Multiclass classification</b>, where there are more than two classes, i.e. $|\\cal{C}| > 2$, \n",
    "                e.g. \n",
    "                let's say that a post to a forum or discussion board \n",
    "                can be a question, an answer, a clarification or an irrelevance.\n",
    "            </li>\n",
    "        </ul>\n",
    "    </li>\n",
    "    <li>In fact, there are even more types of classification, but we will not be studying them further:\n",
    "        <ul>\n",
    "            <li>In <b>multilabel classification</b>, the classifier can assign $\\v{x}$ to more than one class.\n",
    "                <ul>\n",
    "                    <li>I.e. it outputs a <em>set</em> of labels, $\\hat{y} \\subseteq \\cal{C}$.\n",
    "                    </li>\n",
    "                    <li>E.g. consider a movie classifier where the classes are genres, \n",
    "                        e.g. $\\cal{C} = \\Set{\\mathit{comedy},\n",
    "                        \\mathit{action}, \\mathit{horror}, \\mathit{musical}, \\mathit{romance}}$. \n",
    "                    </li>\n",
    "                    <li>\n",
    "                        The classifier's output for <i>The Blues Brothers</i> should be $\\Set{\\mathit{comedy},\n",
    "                        \\mathit{action}, \\mathit{musical}}$.\n",
    "                    </li>\n",
    "                </ul>\n",
    "                Do <strong>not</strong> confuse this with <em>multiclass</em> classification.\n",
    "            </li>\n",
    "            <li>In <b>ordered classification</b>, there is an <em>ordering</em> defined on the classes.\n",
    "                <ul>\n",
    "                    <li>The ordering matters in measuring the performance of the classifier.</li>\n",
    "                    <li>E.g. consider a classifier that predicts a student's degree class, i.e. \n",
    "                        $\\cal{C} = \\Set{\\mathit{Ordinary}, \\mathit{3rd}, \\mathit{2ii}, \\mathit{2i}, \\mathit{1st}}$.\n",
    "                    </li>\n",
    "                    <li>Suppose for student $\\v{x}$, the actual class $y = \\mathit{1st}$.</li>\n",
    "                    <li>One classifier predicts $\\hat{y} = \\mathit{2ii}$.</li>\n",
    "                    <li>Another classifier predicts $\\hat{y} = \\mathit{2i}$.</li>\n",
    "                    <li>Which classifier has done better?</li>\n",
    "                </ul>\n",
    "            </li>\n",
    "        </ul>\n",
    "    </li>\n",
    "</ul>"
   ]
  },
  {
   "cell_type": "markdown",
   "metadata": {
    "slideshow": {
     "slide_type": "slide"
    }
   },
   "source": [
    "<h2>We need to say more about binary classification</h2>\n",
    "<ul>\n",
    "    <li>In binary classification, there are two classes.</li>\n",
    "    <li>It is common to refer to one class (the one labelled 0) as the <b>negative class</b>\n",
    "        and the other (the one labelled 1) as the <b>positive class</b>.\n",
    "    </li>\n",
    "    <li>It doesn't really matter which is which.\n",
    "        <ul>\n",
    "            <li>But, usually, we treat the class we're trying to identify, or the class that requires special action, \n",
    "                as the positive class.\n",
    "            </li>\n",
    "            <li>E.g. in spam filtering, ham is the negative class; spam is the positive class.\n",
    "            </li>\n",
    "            <li>\n",
    "                What about tumour classification?\n",
    "            </li>\n",
    "        </ul>\n",
    "    </li>\n",
    "    <li>(This terminology is extended to other things too, e.g. we can refer to <b>negative examples</b> and\n",
    "        <b>positive examples</b>.)\n",
    "    </li>\n",
    "</ul>"
   ]
  },
  {
   "cell_type": "markdown",
   "metadata": {
    "slideshow": {
     "slide_type": "slide"
    }
   },
   "source": [
    "<h1>Class exercises</h1>\n",
    "<img style=\"float: right\" src=\"images/snow.jpg\" />\n",
    "<ul>\n",
    "    <li>Consider:\n",
    "        <ul>\n",
    "            <li>Predicting tomorrow's rainfall.</li>\n",
    "            <li>Predicting whether we will have a white Christmas.</li>\n",
    "            <li>Predicting the sentiment of a tweet (negative, neutral or positive).</li>\n",
    "            <li>Predicting a person's sexual orientation.</li>\n",
    "            <li>Predicting a person's opinion of a movie on a rating scale of 1 star (rotten) to 5 stars (fab).</li>\n",
    "        </ul>\n",
    "    </li>\n",
    "    <li>Answer the following:\n",
    "        <ul>\n",
    "            <li>Which are regression and which classification?</li>\n",
    "            <li>If classification, which are binary and which are multiclass?</li>\n",
    "            <li>If binary, which is the positive class and which the negative?</li>\n",
    "        </ul>\n",
    "    </li>\n",
    "</ul>"
   ]
  },
  {
   "cell_type": "markdown",
   "metadata": {},
   "source": [
    "<h1>The CS1109 Dataset</h1>\n",
    "<ul>\n",
    "    <li>I collected a dataset of student performances in a now-defunct programming module (<i>CS1109</i>).</li>\n",
    "    <li>Three features: lecture attendance (%), lab attendance (%) and CAO points.</li>\n",
    "    <li>Two classes: $0 = \\mathit{pass}, 1 = \\mathit{fail}$.\n",
    "    <li>Let's explore it a bit.</li>\n",
    "    <li>(We should really split off a test set. But, for the purposes of this introductory material, we\n",
    "        won't bother.)\n",
    "    </li>\n",
    "</ul>"
   ]
  },
  {
   "cell_type": "code",
   "execution_count": 3,
   "metadata": {},
   "outputs": [],
   "source": [
    "# Use pandas to read the CSV file into a DataFrame\n",
    "df = pd.read_csv(\"../datasets/dataset_cs1109.csv\")"
   ]
  },
  {
   "cell_type": "code",
   "execution_count": 4,
   "metadata": {},
   "outputs": [
    {
     "data": {
      "text/plain": [
       "(342, 4)"
      ]
     },
     "execution_count": 4,
     "metadata": {},
     "output_type": "execute_result"
    }
   ],
   "source": [
    "# The dimensions\n",
    "df.shape"
   ]
  },
  {
   "cell_type": "code",
   "execution_count": 5,
   "metadata": {},
   "outputs": [
    {
     "data": {
      "text/plain": [
       "Index(['lect', 'lab', 'cao', 'outcome'], dtype='object')"
      ]
     },
     "execution_count": 5,
     "metadata": {},
     "output_type": "execute_result"
    }
   ],
   "source": [
    "# The columns\n",
    "df.columns"
   ]
  },
  {
   "cell_type": "code",
   "execution_count": 6,
   "metadata": {},
   "outputs": [
    {
     "data": {
      "text/plain": [
       "lect        int64\n",
       "lab         int64\n",
       "cao         int64\n",
       "outcome    object\n",
       "dtype: object"
      ]
     },
     "execution_count": 6,
     "metadata": {},
     "output_type": "execute_result"
    }
   ],
   "source": [
    "# The datatypes\n",
    "df.dtypes"
   ]
  },
  {
   "cell_type": "code",
   "execution_count": 9,
   "metadata": {},
   "outputs": [
    {
     "name": "stdout",
     "output_type": "stream",
     "text": [
      "<class 'pandas.core.frame.DataFrame'>\n",
      "RangeIndex: 342 entries, 0 to 341\n",
      "Data columns (total 4 columns):\n",
      " #   Column   Non-Null Count  Dtype \n",
      "---  ------   --------------  ----- \n",
      " 0   lect     342 non-null    int64 \n",
      " 1   lab      342 non-null    int64 \n",
      " 2   cao      342 non-null    int64 \n",
      " 3   outcome  342 non-null    object\n",
      "dtypes: int64(3), object(1)\n",
      "memory usage: 10.8+ KB\n"
     ]
    }
   ],
   "source": [
    "# There are no NaNs\n",
    "df.info()"
   ]
  },
  {
   "cell_type": "code",
   "execution_count": 37,
   "metadata": {},
   "outputs": [
    {
     "data": {
      "text/html": [
       "<div>\n",
       "<style scoped>\n",
       "    .dataframe tbody tr th:only-of-type {\n",
       "        vertical-align: middle;\n",
       "    }\n",
       "\n",
       "    .dataframe tbody tr th {\n",
       "        vertical-align: top;\n",
       "    }\n",
       "\n",
       "    .dataframe thead th {\n",
       "        text-align: right;\n",
       "    }\n",
       "</style>\n",
       "<table border=\"1\" class=\"dataframe\">\n",
       "  <thead>\n",
       "    <tr style=\"text-align: right;\">\n",
       "      <th></th>\n",
       "      <th>lect</th>\n",
       "      <th>lab</th>\n",
       "      <th>cao</th>\n",
       "      <th>outcome</th>\n",
       "    </tr>\n",
       "  </thead>\n",
       "  <tbody>\n",
       "    <tr>\n",
       "      <th>count</th>\n",
       "      <td>342.000000</td>\n",
       "      <td>342.000000</td>\n",
       "      <td>342.000000</td>\n",
       "      <td>342</td>\n",
       "    </tr>\n",
       "    <tr>\n",
       "      <th>unique</th>\n",
       "      <td>NaN</td>\n",
       "      <td>NaN</td>\n",
       "      <td>NaN</td>\n",
       "      <td>2</td>\n",
       "    </tr>\n",
       "    <tr>\n",
       "      <th>top</th>\n",
       "      <td>NaN</td>\n",
       "      <td>NaN</td>\n",
       "      <td>NaN</td>\n",
       "      <td>pass</td>\n",
       "    </tr>\n",
       "    <tr>\n",
       "      <th>freq</th>\n",
       "      <td>NaN</td>\n",
       "      <td>NaN</td>\n",
       "      <td>NaN</td>\n",
       "      <td>206</td>\n",
       "    </tr>\n",
       "    <tr>\n",
       "      <th>mean</th>\n",
       "      <td>78.970760</td>\n",
       "      <td>79.722222</td>\n",
       "      <td>395.877193</td>\n",
       "      <td>NaN</td>\n",
       "    </tr>\n",
       "    <tr>\n",
       "      <th>std</th>\n",
       "      <td>22.590431</td>\n",
       "      <td>22.931276</td>\n",
       "      <td>60.705453</td>\n",
       "      <td>NaN</td>\n",
       "    </tr>\n",
       "    <tr>\n",
       "      <th>min</th>\n",
       "      <td>0.000000</td>\n",
       "      <td>0.000000</td>\n",
       "      <td>215.000000</td>\n",
       "      <td>NaN</td>\n",
       "    </tr>\n",
       "    <tr>\n",
       "      <th>25%</th>\n",
       "      <td>70.000000</td>\n",
       "      <td>73.000000</td>\n",
       "      <td>350.000000</td>\n",
       "      <td>NaN</td>\n",
       "    </tr>\n",
       "    <tr>\n",
       "      <th>50%</th>\n",
       "      <td>86.000000</td>\n",
       "      <td>86.000000</td>\n",
       "      <td>390.000000</td>\n",
       "      <td>NaN</td>\n",
       "    </tr>\n",
       "    <tr>\n",
       "      <th>75%</th>\n",
       "      <td>95.000000</td>\n",
       "      <td>95.000000</td>\n",
       "      <td>430.000000</td>\n",
       "      <td>NaN</td>\n",
       "    </tr>\n",
       "    <tr>\n",
       "      <th>max</th>\n",
       "      <td>100.000000</td>\n",
       "      <td>100.000000</td>\n",
       "      <td>585.000000</td>\n",
       "      <td>NaN</td>\n",
       "    </tr>\n",
       "  </tbody>\n",
       "</table>\n",
       "</div>"
      ],
      "text/plain": [
       "              lect         lab         cao outcome\n",
       "count   342.000000  342.000000  342.000000     342\n",
       "unique         NaN         NaN         NaN       2\n",
       "top            NaN         NaN         NaN    pass\n",
       "freq           NaN         NaN         NaN     206\n",
       "mean     78.970760   79.722222  395.877193     NaN\n",
       "std      22.590431   22.931276   60.705453     NaN\n",
       "min       0.000000    0.000000  215.000000     NaN\n",
       "25%      70.000000   73.000000  350.000000     NaN\n",
       "50%      86.000000   86.000000  390.000000     NaN\n",
       "75%      95.000000   95.000000  430.000000     NaN\n",
       "max     100.000000  100.000000  585.000000     NaN"
      ]
     },
     "execution_count": 37,
     "metadata": {},
     "output_type": "execute_result"
    }
   ],
   "source": [
    "# Summary statistics\n",
    "df.describe(include=\"all\")"
   ]
  },
  {
   "cell_type": "code",
   "execution_count": 10,
   "metadata": {},
   "outputs": [
    {
     "data": {
      "text/html": [
       "<div>\n",
       "<style scoped>\n",
       "    .dataframe tbody tr th:only-of-type {\n",
       "        vertical-align: middle;\n",
       "    }\n",
       "\n",
       "    .dataframe tbody tr th {\n",
       "        vertical-align: top;\n",
       "    }\n",
       "\n",
       "    .dataframe thead th {\n",
       "        text-align: right;\n",
       "    }\n",
       "</style>\n",
       "<table border=\"1\" class=\"dataframe\">\n",
       "  <thead>\n",
       "    <tr style=\"text-align: right;\">\n",
       "      <th></th>\n",
       "      <th>lect</th>\n",
       "      <th>lab</th>\n",
       "      <th>cao</th>\n",
       "      <th>outcome</th>\n",
       "    </tr>\n",
       "  </thead>\n",
       "  <tbody>\n",
       "    <tr>\n",
       "      <th>0</th>\n",
       "      <td>92</td>\n",
       "      <td>95</td>\n",
       "      <td>490</td>\n",
       "      <td>pass</td>\n",
       "    </tr>\n",
       "    <tr>\n",
       "      <th>1</th>\n",
       "      <td>63</td>\n",
       "      <td>73</td>\n",
       "      <td>465</td>\n",
       "      <td>pass</td>\n",
       "    </tr>\n",
       "    <tr>\n",
       "      <th>2</th>\n",
       "      <td>78</td>\n",
       "      <td>86</td>\n",
       "      <td>530</td>\n",
       "      <td>pass</td>\n",
       "    </tr>\n",
       "    <tr>\n",
       "      <th>3</th>\n",
       "      <td>98</td>\n",
       "      <td>95</td>\n",
       "      <td>380</td>\n",
       "      <td>pass</td>\n",
       "    </tr>\n",
       "    <tr>\n",
       "      <th>4</th>\n",
       "      <td>88</td>\n",
       "      <td>100</td>\n",
       "      <td>470</td>\n",
       "      <td>pass</td>\n",
       "    </tr>\n",
       "  </tbody>\n",
       "</table>\n",
       "</div>"
      ],
      "text/plain": [
       "   lect  lab  cao outcome\n",
       "0    92   95  490    pass\n",
       "1    63   73  465    pass\n",
       "2    78   86  530    pass\n",
       "3    98   95  380    pass\n",
       "4    88  100  470    pass"
      ]
     },
     "execution_count": 10,
     "metadata": {},
     "output_type": "execute_result"
    }
   ],
   "source": [
    "# A few rows\n",
    "df.head()"
   ]
  },
  {
   "cell_type": "markdown",
   "metadata": {},
   "source": [
    "<ul>\n",
    "    <li>For regression, we used a lot of scatter plots: one feature on the $x$-axis and either\n",
    "        the target value or another feature on the $y$-axis.\n",
    "    </li>\n",
    "    <li>For classification, we can show <em>two</em> features, one on each axis, with class labels\n",
    "        shown using points of different shapes and colours.\n",
    "    </li>\n",
    "</ul>"
   ]
  },
  {
   "cell_type": "code",
   "execution_count": 11,
   "metadata": {
    "scrolled": true
   },
   "outputs": [
    {
     "data": {
      "image/png": "[encoded data removed]",
      "text/plain": [
       "<Figure size 418.875x360 with 1 Axes>"
      ]
     },
     "metadata": {
      "needs_background": "light"
     },
     "output_type": "display_data"
    }
   ],
   "source": [
    "plot = lmplot(x=\"lect\", y=\"lab\", hue=\"outcome\", data=df, fit_reg=False) "
   ]
  },
  {
   "cell_type": "code",
   "execution_count": 12,
   "metadata": {},
   "outputs": [
    {
     "data": {
      "image/png": "[encoded data removed]",
      "text/plain": [
       "<Figure size 418.875x360 with 1 Axes>"
      ]
     },
     "metadata": {
      "needs_background": "light"
     },
     "output_type": "display_data"
    }
   ],
   "source": [
    "# We can reduce points sitting on top of each other by adding some jitter\n",
    "plot = lmplot(x=\"lect\", y=\"lab\", hue=\"outcome\", data=df, fit_reg=False, \n",
    "       x_jitter=.01*(max(df[\"lect\"])-min(df[\"lect\"])), \n",
    "       y_jitter=.01*(max(df[\"lab\"])-min(df[\"lab\"]))\n",
    ") "
   ]
  },
  {
   "cell_type": "markdown",
   "metadata": {},
   "source": [
    "<ul>\n",
    "    <li>If this were a module about Data Visualization, we might look at some other kinds of plots too,\n",
    "        e.g. histograms and box plots.\n",
    "    </li>\n",
    "    <li>In their place, here's one more scatter plot. It shows one feature (this time on the $y$-axis)\n",
    "        and the class labels (on the $x$-axis) and also uses some jitter.\n",
    "    </li>\n",
    "</ul>"
   ]
  },
  {
   "cell_type": "code",
   "execution_count": 13,
   "metadata": {
    "scrolled": true
   },
   "outputs": [
    {
     "data": {
      "image/png": "[encoded data removed]",
      "text/plain": [
       "<Figure size 432x288 with 1 Axes>"
      ]
     },
     "metadata": {
      "needs_background": "light"
     },
     "output_type": "display_data"
    }
   ],
   "source": [
    "plot = stripplot(x=\"outcome\", y=\"lect\", data=df, jitter=0.2)"
   ]
  },
  {
   "cell_type": "markdown",
   "metadata": {},
   "source": [
    "<ul>\n",
    "    <li>We need the class labels to be integers. The <code>LabelEncoder</code> class will do this.\n",
    "        However, it does not let us choose which will be the positive class. In fact, in this case,\n",
    "        \"pass\" ends up being positive (1) and fail is negative (0). But it doesn't matter!\n",
    "    </li>\n",
    "</ul>"
   ]
  },
  {
   "cell_type": "code",
   "execution_count": 14,
   "metadata": {},
   "outputs": [],
   "source": [
    "# The features\n",
    "features = [\"lect\", \"lab\", \"cao\"]\n",
    "\n",
    "# Extract the features\n",
    "X = df[features]\n",
    "\n",
    "# Target values, encoded and converted to a 1D numpy array\n",
    "label_encoder = LabelEncoder()\n",
    "y = label_encoder.fit_transform(df[\"outcome\"])"
   ]
  },
  {
   "cell_type": "code",
   "execution_count": 15,
   "metadata": {},
   "outputs": [],
   "source": [
    "# Create the preprocessor\n",
    "preprocessor = ColumnTransformer([\n",
    "        (\"scaler\", StandardScaler(), features)], \n",
    "        remainder=\"passthrough\")"
   ]
  },
  {
   "cell_type": "markdown",
   "metadata": {},
   "source": [
    "<h2>kNN classifier</h2>\n",
    "<ul>\n",
    "    <li>We can use <b>instance-based learning</b> for classification.</li>\n",
    "    <li>As before, we find the $k$ nearest-neighbours. For regression, we took the mean of the neighbours'\n",
    "        $y$-values. For classification, we take a vote: the class with the majority vote wins.\n",
    "        <ul>\n",
    "            <li>E.g. to classify Craig, we find 3 similar students. If two or more of them passed, we predict\n",
    "                Craig will pass. Otherwise, we predict Craig will fail.\n",
    "            </li>\n",
    "            <li>Why for kNN classification, do we often choose $k$ to be an odd number?</li>\n",
    "            <li>There are lots of variants of this, e.g. we can have weighted majority vote, where the\n",
    "                closer a neighbour is, the greater the weight of its vote.\n",
    "            </li>\n",
    "        </ul>\n",
    "    </li>\n",
    "</ul>"
   ]
  },
  {
   "cell_type": "code",
   "execution_count": 16,
   "metadata": {},
   "outputs": [
    {
     "data": {
      "text/html": [
       "<style>#sk-container-id-1 {color: black;background-color: white;}#sk-container-id-1 pre{padding: 0;}#sk-container-id-1 div.sk-toggleable {background-color: white;}#sk-container-id-1 label.sk-toggleable__label {cursor: pointer;display: block;width: 100%;margin-bottom: 0;padding: 0.3em;box-sizing: border-box;text-align: center;}#sk-container-id-1 label.sk-toggleable__label-arrow:before {content: \"▸\";float: left;margin-right: 0.25em;color: #696969;}#sk-container-id-1 label.sk-toggleable__label-arrow:hover:before {color: black;}#sk-container-id-1 div.sk-estimator:hover label.sk-toggleable__label-arrow:before {color: black;}#sk-container-id-1 div.sk-toggleable__content {max-height: 0;max-width: 0;overflow: hidden;text-align: left;background-color: #f0f8ff;}#sk-container-id-1 div.sk-toggleable__content pre {margin: 0.2em;color: black;border-radius: 0.25em;background-color: #f0f8ff;}#sk-container-id-1 input.sk-toggleable__control:checked~div.sk-toggleable__content {max-height: 200px;max-width: 100%;overflow: auto;}#sk-container-id-1 input.sk-toggleable__control:checked~label.sk-toggleable__label-arrow:before {content: \"▾\";}#sk-container-id-1 div.sk-estimator input.sk-toggleable__control:checked~label.sk-toggleable__label {background-color: #d4ebff;}#sk-container-id-1 div.sk-label input.sk-toggleable__control:checked~label.sk-toggleable__label {background-color: #d4ebff;}#sk-container-id-1 input.sk-hidden--visually {border: 0;clip: rect(1px 1px 1px 1px);clip: rect(1px, 1px, 1px, 1px);height: 1px;margin: -1px;overflow: hidden;padding: 0;position: absolute;width: 1px;}#sk-container-id-1 div.sk-estimator {font-family: monospace;background-color: #f0f8ff;border: 1px dotted black;border-radius: 0.25em;box-sizing: border-box;margin-bottom: 0.5em;}#sk-container-id-1 div.sk-estimator:hover {background-color: #d4ebff;}#sk-container-id-1 div.sk-parallel-item::after {content: \"\";width: 100%;border-bottom: 1px solid gray;flex-grow: 1;}#sk-container-id-1 div.sk-label:hover label.sk-toggleable__label {background-color: #d4ebff;}#sk-container-id-1 div.sk-serial::before {content: \"\";position: absolute;border-left: 1px solid gray;box-sizing: border-box;top: 0;bottom: 0;left: 50%;z-index: 0;}#sk-container-id-1 div.sk-serial {display: flex;flex-direction: column;align-items: center;background-color: white;padding-right: 0.2em;padding-left: 0.2em;position: relative;}#sk-container-id-1 div.sk-item {position: relative;z-index: 1;}#sk-container-id-1 div.sk-parallel {display: flex;align-items: stretch;justify-content: center;background-color: white;position: relative;}#sk-container-id-1 div.sk-item::before, #sk-container-id-1 div.sk-parallel-item::before {content: \"\";position: absolute;border-left: 1px solid gray;box-sizing: border-box;top: 0;bottom: 0;left: 50%;z-index: -1;}#sk-container-id-1 div.sk-parallel-item {display: flex;flex-direction: column;z-index: 1;position: relative;background-color: white;}#sk-container-id-1 div.sk-parallel-item:first-child::after {align-self: flex-end;width: 50%;}#sk-container-id-1 div.sk-parallel-item:last-child::after {align-self: flex-start;width: 50%;}#sk-container-id-1 div.sk-parallel-item:only-child::after {width: 0;}#sk-container-id-1 div.sk-dashed-wrapped {border: 1px dashed gray;margin: 0 0.4em 0.5em 0.4em;box-sizing: border-box;padding-bottom: 0.4em;background-color: white;}#sk-container-id-1 div.sk-label label {font-family: monospace;font-weight: bold;display: inline-block;line-height: 1.2em;}#sk-container-id-1 div.sk-label-container {text-align: center;}#sk-container-id-1 div.sk-container {/* jupyter's `normalize.less` sets `[hidden] { display: none; }` but bootstrap.min.css set `[hidden] { display: none !important; }` so we also need the `!important` here to be able to override the default hidden behavior on the sphinx rendered scikit-learn.org. See: https://github.com/scikit-learn/scikit-learn/issues/21755 */display: inline-block !important;position: relative;}#sk-container-id-1 div.sk-text-repr-fallback {display: none;}</style><div id=\"sk-container-id-1\" class=\"sk-top-container\"><div class=\"sk-text-repr-fallback\"><pre>Pipeline(steps=[(&#x27;preprocessor&#x27;,\n",
       "                 ColumnTransformer(remainder=&#x27;passthrough&#x27;,\n",
       "                                   transformers=[(&#x27;scaler&#x27;, StandardScaler(),\n",
       "                                                  [&#x27;lect&#x27;, &#x27;lab&#x27;, &#x27;cao&#x27;])])),\n",
       "                (&#x27;predictor&#x27;, KNeighborsClassifier(n_neighbors=3))])</pre><b>In a Jupyter environment, please rerun this cell to show the HTML representation or trust the notebook. <br />On GitHub, the HTML representation is unable to render, please try loading this page with nbviewer.org.</b></div><div class=\"sk-container\" hidden><div class=\"sk-item sk-dashed-wrapped\"><div class=\"sk-label-container\"><div class=\"sk-label sk-toggleable\"><input class=\"sk-toggleable__control sk-hidden--visually\" id=\"sk-estimator-id-1\" type=\"checkbox\" ><label for=\"sk-estimator-id-1\" class=\"sk-toggleable__label sk-toggleable__label-arrow\">Pipeline</label><div class=\"sk-toggleable__content\"><pre>Pipeline(steps=[(&#x27;preprocessor&#x27;,\n",
       "                 ColumnTransformer(remainder=&#x27;passthrough&#x27;,\n",
       "                                   transformers=[(&#x27;scaler&#x27;, StandardScaler(),\n",
       "                                                  [&#x27;lect&#x27;, &#x27;lab&#x27;, &#x27;cao&#x27;])])),\n",
       "                (&#x27;predictor&#x27;, KNeighborsClassifier(n_neighbors=3))])</pre></div></div></div><div class=\"sk-serial\"><div class=\"sk-item sk-dashed-wrapped\"><div class=\"sk-label-container\"><div class=\"sk-label sk-toggleable\"><input class=\"sk-toggleable__control sk-hidden--visually\" id=\"sk-estimator-id-2\" type=\"checkbox\" ><label for=\"sk-estimator-id-2\" class=\"sk-toggleable__label sk-toggleable__label-arrow\">preprocessor: ColumnTransformer</label><div class=\"sk-toggleable__content\"><pre>ColumnTransformer(remainder=&#x27;passthrough&#x27;,\n",
       "                  transformers=[(&#x27;scaler&#x27;, StandardScaler(),\n",
       "                                 [&#x27;lect&#x27;, &#x27;lab&#x27;, &#x27;cao&#x27;])])</pre></div></div></div><div class=\"sk-parallel\"><div class=\"sk-parallel-item\"><div class=\"sk-item\"><div class=\"sk-label-container\"><div class=\"sk-label sk-toggleable\"><input class=\"sk-toggleable__control sk-hidden--visually\" id=\"sk-estimator-id-3\" type=\"checkbox\" ><label for=\"sk-estimator-id-3\" class=\"sk-toggleable__label sk-toggleable__label-arrow\">scaler</label><div class=\"sk-toggleable__content\"><pre>[&#x27;lect&#x27;, &#x27;lab&#x27;, &#x27;cao&#x27;]</pre></div></div></div><div class=\"sk-serial\"><div class=\"sk-item\"><div class=\"sk-estimator sk-toggleable\"><input class=\"sk-toggleable__control sk-hidden--visually\" id=\"sk-estimator-id-4\" type=\"checkbox\" ><label for=\"sk-estimator-id-4\" class=\"sk-toggleable__label sk-toggleable__label-arrow\">StandardScaler</label><div class=\"sk-toggleable__content\"><pre>StandardScaler()</pre></div></div></div></div></div></div><div class=\"sk-parallel-item\"><div class=\"sk-item\"><div class=\"sk-label-container\"><div class=\"sk-label sk-toggleable\"><input class=\"sk-toggleable__control sk-hidden--visually\" id=\"sk-estimator-id-5\" type=\"checkbox\" ><label for=\"sk-estimator-id-5\" class=\"sk-toggleable__label sk-toggleable__label-arrow\">remainder</label><div class=\"sk-toggleable__content\"><pre>[]</pre></div></div></div><div class=\"sk-serial\"><div class=\"sk-item\"><div class=\"sk-estimator sk-toggleable\"><input class=\"sk-toggleable__control sk-hidden--visually\" id=\"sk-estimator-id-6\" type=\"checkbox\" ><label for=\"sk-estimator-id-6\" class=\"sk-toggleable__label sk-toggleable__label-arrow\">passthrough</label><div class=\"sk-toggleable__content\"><pre>passthrough</pre></div></div></div></div></div></div></div></div><div class=\"sk-item\"><div class=\"sk-estimator sk-toggleable\"><input class=\"sk-toggleable__control sk-hidden--visually\" id=\"sk-estimator-id-7\" type=\"checkbox\" ><label for=\"sk-estimator-id-7\" class=\"sk-toggleable__label sk-toggleable__label-arrow\">KNeighborsClassifier</label><div class=\"sk-toggleable__content\"><pre>KNeighborsClassifier(n_neighbors=3)</pre></div></div></div></div></div></div></div>"
      ],
      "text/plain": [
       "Pipeline(steps=[('preprocessor',\n",
       "                 ColumnTransformer(remainder='passthrough',\n",
       "                                   transformers=[('scaler', StandardScaler(),\n",
       "                                                  ['lect', 'lab', 'cao'])])),\n",
       "                ('predictor', KNeighborsClassifier(n_neighbors=3))])"
      ]
     },
     "execution_count": 16,
     "metadata": {},
     "output_type": "execute_result"
    }
   ],
   "source": [
    "knn = Pipeline([\n",
    "    (\"preprocessor\", preprocessor),\n",
    "    (\"predictor\", KNeighborsClassifier(n_neighbors=3))])\n",
    "\n",
    "knn.fit(X, y)"
   ]
  },
  {
   "cell_type": "markdown",
   "metadata": {},
   "source": [
    "<ul>\n",
    "    <li>Let's predict outcomes for Craig (lecture attendance 60%, lab attendance 25% and 500 CAO points) and Chiyo\n",
    "        (80%, 90%, 350).\n",
    "    </li>\n",
    "</ul>"
   ]
  },
  {
   "cell_type": "code",
   "execution_count": 17,
   "metadata": {},
   "outputs": [],
   "source": [
    "students = pd.DataFrame([{\"lect\": 60, \"lab\": 25, \"cao\": 500}, \n",
    "                         {\"lect\": 80, \"lab\": 90, \"cao\": 350}])"
   ]
  },
  {
   "cell_type": "code",
   "execution_count": 18,
   "metadata": {},
   "outputs": [
    {
     "data": {
      "text/plain": [
       "array([0, 0])"
      ]
     },
     "execution_count": 18,
     "metadata": {},
     "output_type": "execute_result"
    }
   ],
   "source": [
    "knn.predict(students)"
   ]
  },
  {
   "cell_type": "markdown",
   "metadata": {},
   "source": [
    "<ul>\n",
    "    <li>Hard to remember what this means, so use the <code>LabelEncoder</code>:</li>\n",
    "</ul>"
   ]
  },
  {
   "cell_type": "code",
   "execution_count": 19,
   "metadata": {},
   "outputs": [
    {
     "data": {
      "text/plain": [
       "array(['fail', 'fail'], dtype=object)"
      ]
     },
     "execution_count": 19,
     "metadata": {},
     "output_type": "execute_result"
    }
   ],
   "source": [
    "label_encoder.inverse_transform(knn.predict(students))"
   ]
  },
  {
   "cell_type": "markdown",
   "metadata": {},
   "source": [
    "<h2>Logistic Regression</h2>\n",
    "<ul>\n",
    "    <li>We can also use <b>model-based learning</b> for classification.</li>\n",
    "    <li>There are all sorts of model, but the simplest again is a <b>linear model</b>.\n",
    "        <ul>\n",
    "            <li>For regression, we wanted to find the line/plane/hyperplane that best fits the \n",
    "                training examples.\n",
    "            </li>\n",
    "            <li>For classification, we want to find the line/plane/hyperplane that best separates\n",
    "                training examples of different classes.\n",
    "            </li>\n",
    "        </ul>\n",
    "    </li>\n",
    "    <li>Let's visualize, which means we can only use two of the features.</li>\n",
    "</ul>"
   ]
  },
  {
   "cell_type": "code",
   "execution_count": 20,
   "metadata": {},
   "outputs": [
    {
     "data": {
      "application/vnd.jupyter.widget-view+json": {
       "model_id": "f78a1b6e076e4c9992820372a7672c86",
       "version_major": 2,
       "version_minor": 0
      },
      "text/plain": [
       "interactive(children=(IntSlider(value=100, description='beta0', max=150, min=50), FloatSlider(value=0.0, descr…"
      ]
     },
     "metadata": {},
     "output_type": "display_data"
    }
   ],
   "source": [
    "# Get the feature-values (just lect and lab) and the target values \n",
    "lects = df[\"lect\"]\n",
    "labs = df[\"lab\"]\n",
    "outcomes = df[\"outcome\"]\n",
    "\n",
    "def boundary_plot(beta0, beta1):\n",
    "    fig = plt.figure(figsize=(6,6))\n",
    "    plt.title(\"Training set, and the decision boundary\")\n",
    "    plt.scatter(lects[outcomes==\"fail\"], labs[outcomes==\"fail\"], color = \"green\", marker=\"s\")\n",
    "    plt.scatter(lects[outcomes==\"pass\"], labs[outcomes==\"pass\"], color = \"red\", marker=\"o\")\n",
    "    xvals = np.linspace(0, 100, 2)\n",
    "    plt.plot(xvals, beta0+xvals*beta1, color=\"blue\")\n",
    "    plt.xlabel(\"Lecture attendance (%)\")\n",
    "    plt.xlim(0, 100)\n",
    "    plt.ylabel(\"Lab attendance (%)\")\n",
    "    plt.ylim(0, 100)\n",
    "    plt.show()\n",
    "    \n",
    "interactive_plot = interactive(boundary_plot, beta0=(50,150), beta1=(-10,10,.1))\n",
    "interactive_plot"
   ]
  },
  {
   "cell_type": "markdown",
   "metadata": {},
   "source": [
    "<ul>\n",
    "    <li>If it is possible to find a line that separates the data (only positive examples on one side, only negative\n",
    "        examples on the other), we say the dataset is <b>linearly separable</b>.\n",
    "        <ul>\n",
    "            <li>Is the CS1109 dataset linearly separable?</li>\n",
    "        </ul>\n",
    "    </li>\n",
    "    <li>This generalizes from straight lines to planes and hyperplanes in the case of more features.</li>\n",
    "</ul>"
   ]
  },
  {
   "cell_type": "markdown",
   "metadata": {},
   "source": [
    "<ul>\n",
    "    <li>In scikit-learn, the class for doing this is called <code>LogisticRegression</code>.\n",
    "        <ul>\n",
    "            <li>Despite its name, it does classification, not regression.</li>\n",
    "            <li>As we will learn in the next lecture, it uses Gradient Descent, so it\n",
    "                works better if the data is scaled.</li>\n",
    "        </ul>\n",
    "    </li>\n",
    "</ul>"
   ]
  },
  {
   "cell_type": "code",
   "execution_count": 21,
   "metadata": {},
   "outputs": [
    {
     "data": {
      "text/html": [
       "<style>#sk-container-id-2 {color: black;background-color: white;}#sk-container-id-2 pre{padding: 0;}#sk-container-id-2 div.sk-toggleable {background-color: white;}#sk-container-id-2 label.sk-toggleable__label {cursor: pointer;display: block;width: 100%;margin-bottom: 0;padding: 0.3em;box-sizing: border-box;text-align: center;}#sk-container-id-2 label.sk-toggleable__label-arrow:before {content: \"▸\";float: left;margin-right: 0.25em;color: #696969;}#sk-container-id-2 label.sk-toggleable__label-arrow:hover:before {color: black;}#sk-container-id-2 div.sk-estimator:hover label.sk-toggleable__label-arrow:before {color: black;}#sk-container-id-2 div.sk-toggleable__content {max-height: 0;max-width: 0;overflow: hidden;text-align: left;background-color: #f0f8ff;}#sk-container-id-2 div.sk-toggleable__content pre {margin: 0.2em;color: black;border-radius: 0.25em;background-color: #f0f8ff;}#sk-container-id-2 input.sk-toggleable__control:checked~div.sk-toggleable__content {max-height: 200px;max-width: 100%;overflow: auto;}#sk-container-id-2 input.sk-toggleable__control:checked~label.sk-toggleable__label-arrow:before {content: \"▾\";}#sk-container-id-2 div.sk-estimator input.sk-toggleable__control:checked~label.sk-toggleable__label {background-color: #d4ebff;}#sk-container-id-2 div.sk-label input.sk-toggleable__control:checked~label.sk-toggleable__label {background-color: #d4ebff;}#sk-container-id-2 input.sk-hidden--visually {border: 0;clip: rect(1px 1px 1px 1px);clip: rect(1px, 1px, 1px, 1px);height: 1px;margin: -1px;overflow: hidden;padding: 0;position: absolute;width: 1px;}#sk-container-id-2 div.sk-estimator {font-family: monospace;background-color: #f0f8ff;border: 1px dotted black;border-radius: 0.25em;box-sizing: border-box;margin-bottom: 0.5em;}#sk-container-id-2 div.sk-estimator:hover {background-color: #d4ebff;}#sk-container-id-2 div.sk-parallel-item::after {content: \"\";width: 100%;border-bottom: 1px solid gray;flex-grow: 1;}#sk-container-id-2 div.sk-label:hover label.sk-toggleable__label {background-color: #d4ebff;}#sk-container-id-2 div.sk-serial::before {content: \"\";position: absolute;border-left: 1px solid gray;box-sizing: border-box;top: 0;bottom: 0;left: 50%;z-index: 0;}#sk-container-id-2 div.sk-serial {display: flex;flex-direction: column;align-items: center;background-color: white;padding-right: 0.2em;padding-left: 0.2em;position: relative;}#sk-container-id-2 div.sk-item {position: relative;z-index: 1;}#sk-container-id-2 div.sk-parallel {display: flex;align-items: stretch;justify-content: center;background-color: white;position: relative;}#sk-container-id-2 div.sk-item::before, #sk-container-id-2 div.sk-parallel-item::before {content: \"\";position: absolute;border-left: 1px solid gray;box-sizing: border-box;top: 0;bottom: 0;left: 50%;z-index: -1;}#sk-container-id-2 div.sk-parallel-item {display: flex;flex-direction: column;z-index: 1;position: relative;background-color: white;}#sk-container-id-2 div.sk-parallel-item:first-child::after {align-self: flex-end;width: 50%;}#sk-container-id-2 div.sk-parallel-item:last-child::after {align-self: flex-start;width: 50%;}#sk-container-id-2 div.sk-parallel-item:only-child::after {width: 0;}#sk-container-id-2 div.sk-dashed-wrapped {border: 1px dashed gray;margin: 0 0.4em 0.5em 0.4em;box-sizing: border-box;padding-bottom: 0.4em;background-color: white;}#sk-container-id-2 div.sk-label label {font-family: monospace;font-weight: bold;display: inline-block;line-height: 1.2em;}#sk-container-id-2 div.sk-label-container {text-align: center;}#sk-container-id-2 div.sk-container {/* jupyter's `normalize.less` sets `[hidden] { display: none; }` but bootstrap.min.css set `[hidden] { display: none !important; }` so we also need the `!important` here to be able to override the default hidden behavior on the sphinx rendered scikit-learn.org. See: https://github.com/scikit-learn/scikit-learn/issues/21755 */display: inline-block !important;position: relative;}#sk-container-id-2 div.sk-text-repr-fallback {display: none;}</style><div id=\"sk-container-id-2\" class=\"sk-top-container\"><div class=\"sk-text-repr-fallback\"><pre>Pipeline(steps=[(&#x27;preprocessor&#x27;,\n",
       "                 ColumnTransformer(remainder=&#x27;passthrough&#x27;,\n",
       "                                   transformers=[(&#x27;scaler&#x27;, StandardScaler(),\n",
       "                                                  [&#x27;lect&#x27;, &#x27;lab&#x27;, &#x27;cao&#x27;])])),\n",
       "                (&#x27;predictor&#x27;, LogisticRegression())])</pre><b>In a Jupyter environment, please rerun this cell to show the HTML representation or trust the notebook. <br />On GitHub, the HTML representation is unable to render, please try loading this page with nbviewer.org.</b></div><div class=\"sk-container\" hidden><div class=\"sk-item sk-dashed-wrapped\"><div class=\"sk-label-container\"><div class=\"sk-label sk-toggleable\"><input class=\"sk-toggleable__control sk-hidden--visually\" id=\"sk-estimator-id-8\" type=\"checkbox\" ><label for=\"sk-estimator-id-8\" class=\"sk-toggleable__label sk-toggleable__label-arrow\">Pipeline</label><div class=\"sk-toggleable__content\"><pre>Pipeline(steps=[(&#x27;preprocessor&#x27;,\n",
       "                 ColumnTransformer(remainder=&#x27;passthrough&#x27;,\n",
       "                                   transformers=[(&#x27;scaler&#x27;, StandardScaler(),\n",
       "                                                  [&#x27;lect&#x27;, &#x27;lab&#x27;, &#x27;cao&#x27;])])),\n",
       "                (&#x27;predictor&#x27;, LogisticRegression())])</pre></div></div></div><div class=\"sk-serial\"><div class=\"sk-item sk-dashed-wrapped\"><div class=\"sk-label-container\"><div class=\"sk-label sk-toggleable\"><input class=\"sk-toggleable__control sk-hidden--visually\" id=\"sk-estimator-id-9\" type=\"checkbox\" ><label for=\"sk-estimator-id-9\" class=\"sk-toggleable__label sk-toggleable__label-arrow\">preprocessor: ColumnTransformer</label><div class=\"sk-toggleable__content\"><pre>ColumnTransformer(remainder=&#x27;passthrough&#x27;,\n",
       "                  transformers=[(&#x27;scaler&#x27;, StandardScaler(),\n",
       "                                 [&#x27;lect&#x27;, &#x27;lab&#x27;, &#x27;cao&#x27;])])</pre></div></div></div><div class=\"sk-parallel\"><div class=\"sk-parallel-item\"><div class=\"sk-item\"><div class=\"sk-label-container\"><div class=\"sk-label sk-toggleable\"><input class=\"sk-toggleable__control sk-hidden--visually\" id=\"sk-estimator-id-10\" type=\"checkbox\" ><label for=\"sk-estimator-id-10\" class=\"sk-toggleable__label sk-toggleable__label-arrow\">scaler</label><div class=\"sk-toggleable__content\"><pre>[&#x27;lect&#x27;, &#x27;lab&#x27;, &#x27;cao&#x27;]</pre></div></div></div><div class=\"sk-serial\"><div class=\"sk-item\"><div class=\"sk-estimator sk-toggleable\"><input class=\"sk-toggleable__control sk-hidden--visually\" id=\"sk-estimator-id-11\" type=\"checkbox\" ><label for=\"sk-estimator-id-11\" class=\"sk-toggleable__label sk-toggleable__label-arrow\">StandardScaler</label><div class=\"sk-toggleable__content\"><pre>StandardScaler()</pre></div></div></div></div></div></div><div class=\"sk-parallel-item\"><div class=\"sk-item\"><div class=\"sk-label-container\"><div class=\"sk-label sk-toggleable\"><input class=\"sk-toggleable__control sk-hidden--visually\" id=\"sk-estimator-id-12\" type=\"checkbox\" ><label for=\"sk-estimator-id-12\" class=\"sk-toggleable__label sk-toggleable__label-arrow\">remainder</label><div class=\"sk-toggleable__content\"><pre>[]</pre></div></div></div><div class=\"sk-serial\"><div class=\"sk-item\"><div class=\"sk-estimator sk-toggleable\"><input class=\"sk-toggleable__control sk-hidden--visually\" id=\"sk-estimator-id-13\" type=\"checkbox\" ><label for=\"sk-estimator-id-13\" class=\"sk-toggleable__label sk-toggleable__label-arrow\">passthrough</label><div class=\"sk-toggleable__content\"><pre>passthrough</pre></div></div></div></div></div></div></div></div><div class=\"sk-item\"><div class=\"sk-estimator sk-toggleable\"><input class=\"sk-toggleable__control sk-hidden--visually\" id=\"sk-estimator-id-14\" type=\"checkbox\" ><label for=\"sk-estimator-id-14\" class=\"sk-toggleable__label sk-toggleable__label-arrow\">LogisticRegression</label><div class=\"sk-toggleable__content\"><pre>LogisticRegression()</pre></div></div></div></div></div></div></div>"
      ],
      "text/plain": [
       "Pipeline(steps=[('preprocessor',\n",
       "                 ColumnTransformer(remainder='passthrough',\n",
       "                                   transformers=[('scaler', StandardScaler(),\n",
       "                                                  ['lect', 'lab', 'cao'])])),\n",
       "                ('predictor', LogisticRegression())])"
      ]
     },
     "execution_count": 21,
     "metadata": {},
     "output_type": "execute_result"
    }
   ],
   "source": [
    "logistic_model = Pipeline([\n",
    "    (\"preprocessor\", preprocessor),\n",
    "    (\"predictor\", LogisticRegression())])\n",
    "\n",
    "logistic_model.fit(X, y)"
   ]
  },
  {
   "cell_type": "code",
   "execution_count": 22,
   "metadata": {},
   "outputs": [
    {
     "data": {
      "text/plain": [
       "array(['fail', 'pass'], dtype=object)"
      ]
     },
     "execution_count": 22,
     "metadata": {},
     "output_type": "execute_result"
    }
   ],
   "source": [
    "label_encoder.inverse_transform(logistic_model.predict(students))"
   ]
  },
  {
   "cell_type": "markdown",
   "metadata": {},
   "source": [
    "<ul>\n",
    "    <li><strong>Don't copy any code from this notebook!</strong></li>\n",
    "    <li>The code introduces the ideas but it does not split the dataset, etc.</li>\n",
    "</ul>"
   ]
  },
  {
   "cell_type": "code",
   "execution_count": null,
   "metadata": {},
   "outputs": [],
   "source": []
  }
 ],
 "metadata": {
  "celltoolbar": "Slideshow",
  "kernelspec": {
   "display_name": "Python 3 (ipykernel)",
   "language": "python",
   "name": "python3"
  },
  "language_info": {
   "codemirror_mode": {
    "name": "ipython",
    "version": 3
   },
   "file_extension": ".py",
   "mimetype": "text/x-python",
   "name": "python",
   "nbconvert_exporter": "python",
   "pygments_lexer": "ipython3",
   "version": "3.10.8"
  }
 },
 "nbformat": 4,
 "nbformat_minor": 1
}
