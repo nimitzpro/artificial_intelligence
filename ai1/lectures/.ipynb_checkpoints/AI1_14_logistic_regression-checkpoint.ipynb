{
 "cells": [
  {
   "cell_type": "markdown",
   "metadata": {
    "slideshow": {
     "slide_type": "slide"
    }
   },
   "source": [
    "<h1>CS4618: Artificial Intelligence I</h1>\n",
    "<h1>Logistic Regression</h1>\n",
    "<h2>\n",
    "    Derek Bridge<br>\n",
    "    School of Computer Science and Information Technology<br>\n",
    "    University College Cork\n",
    "</h2>"
   ]
  },
  {
   "cell_type": "markdown",
   "metadata": {
    "slideshow": {
     "slide_type": "skip"
    }
   },
   "source": [
    "<h1>Initialization</h1>\n",
    "$\\newcommand{\\Set}[1]{\\{#1\\}}$ \n",
    "$\\newcommand{\\Tuple}[1]{\\langle#1\\rangle}$ \n",
    "$\\newcommand{\\v}[1]{\\pmb{#1}}$ \n",
    "$\\newcommand{\\cv}[1]{\\begin{bmatrix}#1\\end{bmatrix}}$ \n",
    "$\\newcommand{\\rv}[1]{[#1]}$ \n",
    "$\\DeclareMathOperator{\\argmax}{arg\\,max}$ \n",
    "$\\DeclareMathOperator{\\argmin}{arg\\,min}$ \n",
    "$\\DeclareMathOperator{\\dist}{dist}$\n",
    "$\\DeclareMathOperator{\\abs}{abs}$"
   ]
  },
  {
   "cell_type": "code",
   "execution_count": 1,
   "metadata": {
    "slideshow": {
     "slide_type": "skip"
    }
   },
   "outputs": [],
   "source": [
    "%reload_ext autoreload\n",
    "%autoreload 2\n",
    "%matplotlib inline"
   ]
  },
  {
   "cell_type": "code",
   "execution_count": 2,
   "metadata": {},
   "outputs": [],
   "source": [
    "import pandas as pd\n",
    "import numpy as np\n",
    "import matplotlib.pyplot as plt\n",
    "from sklearn.linear_model import LinearRegression\n",
    "from sklearn.preprocessing import LabelEncoder\n",
    "from math import exp, log"
   ]
  },
  {
   "cell_type": "markdown",
   "metadata": {
    "slideshow": {
     "slide_type": "slide"
    }
   },
   "source": [
    "<h1>Logistic Regression</h1>\n",
    "<ul>\n",
    "    <li>Despite its name, <b>logistic regression</b> is used for <em>classification</em>.\n",
    "        <ul>\n",
    "            <li>At heart, it predicts a number (and turns it into a probability), and perhaps this is why its name\n",
    "                mentions regression.\n",
    "            </li>\n",
    "            <li>At heart, it builds linear models.</li>\n",
    "        </ul>\n",
    "    </li>\n",
    "</ul>"
   ]
  },
  {
   "cell_type": "markdown",
   "metadata": {},
   "source": [
    "<h1>Logistic Regression for Binary Classification</h1>\n",
    "<ul>\n",
    " <li>Let's start with logistic regression for <b>binary classification</b>.\n",
    "        <ul>\n",
    "            <li>In this case, logistic regression predicts the probability that $\\v{x}$ belongs to\n",
    "                the positive class.\n",
    "            </li>\n",
    "        </ul>\n",
    "    </li>\n",
    "    <li>This is what logistic regression does:\n",
    "    $$\\hat{y} = \\left\\{ \\begin{array}{rl} \n",
    "        0 & \\mbox{if } Prob(\\hat{y} = 1\\, |\\, \\v{x}) <  0.5 \\\\\n",
    "        1 & \\mbox{if } Prob(\\hat{y} = 1\\, |\\, \\v{x}) \\geq 0.5\n",
    "                        \\end{array} \\right.\n",
    "    $$\n",
    "    where\n",
    "    $$Prob(\\hat{y} = 1\\, |\\, \\v{x}) = \\sigma(\\v{x}\\v{\\beta})$$\n",
    "    where\n",
    "    $$\\sigma(z) = \\frac{1}{1 + e^{-z}}$$\n",
    "    and \n",
    "    $\\v{x}\\v{\\beta}$\n",
    "    is familiar from linear regression (and assumes that $\\v{x}$ has an extra 'feature',\n",
    "    $x_0 = 1$)\n",
    "    </li>\n",
    "    <li>We'll study this bit by bit.</li>\n",
    "</ul>"
   ]
  },
  {
   "cell_type": "markdown",
   "metadata": {
    "slideshow": {
     "slide_type": "slide"
    }
   },
   "source": [
    "<h2>We Can't Just Use Linear Regression</h2>\n",
    "<ul>\n",
    "    <li>In Linear Regression, each hypothesis $h_{\\v{\\beta}}$ was of the form \n",
    "        $$\\begin{array}{rl}\n",
    "            h_{\\v{x}}(\\v{\\beta}) & = \\v{\\beta}_0 + \\v{\\beta}_1\\v{x}_1 + \\v{\\beta}_2\\v{x}_2 + \\ldots + \\v{\\beta}_n\\v{x}_n \\\\\n",
    "                                 & = \\v{x}\\v{\\beta}\n",
    "          \\end{array}\n",
    "    $$\n",
    "        where $\\v{x}$ is a row vector with $n+1$ elements (with $\\v{x}_0 = 1$), and $\\v{\\beta}$ is a (column)\n",
    "        vector of coefficients\n",
    "    </li>\n",
    "    <li>Why can't we just use this directly to predict probabilities?\n",
    "        <ul>\n",
    "            <li>To help you answer, here is one hypothesis $h_{\\v{\\beta}}$ for the CS1109 dataset\n",
    "                (using just one of its features, $\\mathit{lab}$, for easy visualization).\n",
    "            </li>\n",
    "        </ul>\n",
    "    </li>\n",
    "</ul>"
   ]
  },
  {
   "cell_type": "code",
   "execution_count": 3,
   "metadata": {},
   "outputs": [
    {
     "data": {
      "image/png": "[encoded data removed]",
      "text/plain": [
       "<Figure size 432x288 with 1 Axes>"
      ]
     },
     "metadata": {
      "needs_background": "light"
     },
     "output_type": "display_data"
    }
   ],
   "source": [
    "df = pd.read_csv(\"../datasets/dataset_cs1109.csv\")\n",
    "\n",
    "X = df[[\"lab\"]].values\n",
    "label_encoder = LabelEncoder()\n",
    "y = label_encoder.fit_transform(df[\"outcome\"])\n",
    "\n",
    "linreg = LinearRegression()\n",
    "linreg.fit(X, y)\n",
    "\n",
    "xvals = np.array([[0], [100]])\n",
    "yvals = linreg.predict(xvals)\n",
    "\n",
    "fig = plt.figure()\n",
    "plt.title(\"Training set and learned model\")\n",
    "plt.scatter(X, y, color = \"green\")\n",
    "plt.plot(xvals, yvals, color = \"blue\")\n",
    "plt.xlabel(\"Lab attendance (%)\")\n",
    "plt.xlim(0, 100)\n",
    "plt.ylabel(\"Probability\")\n",
    "plt.ylim(-0.5, 1.5)\n",
    "plt.show()"
   ]
  },
  {
   "cell_type": "markdown",
   "metadata": {},
   "source": [
    "<h2>The Logistic Function</h2>\n",
    "<ul>\n",
    "    <li>To 'squash' the values of $\\v{x}{\\v{\\beta}}$ to $[0,1]$ so we can treat them as\n",
    "        probabilities:\n",
    "        $$h_{\\v{\\beta}} = \\sigma(\\v{x}{\\v{\\beta}})$$\n",
    "        where $\\sigma$ is the <b>logistic function</b> (also called the 'logit'):\n",
    "        $$\\sigma(z) = \\frac{1}{1 + e^{-z}}$$\n",
    "    </li>\n",
    "    <li>The logistic function is also caled the  <b>sigmoid function</b> (which is what we will call it)\n",
    "        because it is S-shaped:\n",
    "    </li>\n",
    "</ul>"
   ]
  },
  {
   "cell_type": "code",
   "execution_count": 4,
   "metadata": {
    "scrolled": true
   },
   "outputs": [
    {
     "data": {
      "image/png": "[encoded data removed]",
      "text/plain": [
       "<Figure size 432x288 with 1 Axes>"
      ]
     },
     "metadata": {
      "needs_background": "light"
     },
     "output_type": "display_data"
    }
   ],
   "source": [
    "def sigma(z):\n",
    "    return 1 / (1 + exp(-z))\n",
    "\n",
    "fig = plt.figure()\n",
    "plt.title(\"Sigmoid function\")\n",
    "xvals = np.linspace(-10, 10, 21)\n",
    "plt.plot(xvals, [sigma(xval) for xval in xvals], color = \"red\")\n",
    "plt.xlabel(\"z\")\n",
    "plt.xlim(-10, 10)\n",
    "plt.ylabel(\"$\\sigma(z)$\")\n",
    "plt.ylim(0.0, 1.0)\n",
    "plt.show()"
   ]
  },
  {
   "cell_type": "markdown",
   "metadata": {},
   "source": [
    "<ul>\n",
    "    <li>A minor point: the sigmoid function asymptotically approaches 0 and 1.\n",
    "        <ul>\n",
    "            <li>So, in fact its values are in $(0,1)$ and not $[0,1]$.</li>\n",
    "        </ul>\n",
    "    </li>\n",
    "</ul>"
   ]
  },
  {
   "cell_type": "markdown",
   "metadata": {
    "slideshow": {
     "slide_type": "slide"
    }
   },
   "source": [
    "<h2>Thresholding</h2>\n",
    "<ul>\n",
    "    <li>The hypotheses that logistic regression learns, \n",
    "        $h_{\\v{\\beta}} = \\sigma(\\v{x}\\v{\\beta})$, output numbers between 0 and 1.\n",
    "    </li>\n",
    "    <li>We interpret these numbers as probabilities: the probability that $\\v{x}$ belongs to the positive class\n",
    "        $$Prob(\\hat{y} = 1\\, |\\, \\v{x}) = \\sigma(\\v{x}\\v{\\beta})$$\n",
    "    </li>\n",
    "    <li>Then, to make this a classifier (so it outputs one of the two class labels), we threshold:\n",
    "        $$\\hat{y} = \\left\\{\n",
    "           \\begin{array}{rl}\n",
    "           0 & \\mbox{if } Prob(\\hat{y} = 1\\, |\\, \\v{x}) < 0.5 \\\\\n",
    "           1 & \\mbox{if } Prob(\\hat{y} = 1\\, |\\, \\v{x}) \\geq 0.5\n",
    "           \\end{array} \\right.\n",
    "        $$\n",
    "    </li>\n",
    "</ul>"
   ]
  },
  {
   "cell_type": "markdown",
   "metadata": {},
   "source": [
    "<h2>Decision Boundary</h2>\n",
    "<ul>\n",
    "    <li>The examples for which logistic regression predicts probabilities of 0.5,\n",
    "        $Prob(\\hat{y} = 1\\, |\\, \\v{x}) = 0.5)$, lie on what is called the <b>decision boundary</b>.\n",
    "    </li>\n",
    "    <li>If you look back at the graph of the sigmoid function, its output is 0.5 when its\n",
    "        input ($z$) is zero.\n",
    "    </li>\n",
    "    <li>It follows that the decision boundary are examples where\n",
    "        $$\\v{x}{\\v{\\beta}} = 0$$\n",
    "    </li>\n",
    "</ul>"
   ]
  },
  {
   "cell_type": "markdown",
   "metadata": {},
   "source": [
    "<h2>Example</h2>\n",
    "<ul>\n",
    "    <li>Suppose our hypothesis is $\\beta = \\cv{3200\\\\-40\\\\-40\\\\0}$.\n",
    "    </li>\n",
    "    <li>I.e. $Prob(\\hat{\\v{y}} = 1\\, |\\, \\v{x}) = \n",
    "        \\sigma(3200 - 40\\times\\mathit{lect} - 40\\times\\mathit{lab} + 0 \\times\\mathit{cao})$\n",
    "    </li>\n",
    "    <li>So what does this model predict for Craig, who attended 60% of lectures, 25% of labs and has 500 \n",
    "        CAO points, $\\v{x} = \\rv{1, 60, 25, 500}$?\n",
    "        <ul>\n",
    "            <li>Compute $\\v{x}\\v{\\beta}$: $\\rv{1, 60, 25, 500}\\cv{3200\\\\-40\\\\-40\\\\0} = -200$</li>\n",
    "            <li>Compute sigmoid: $\\sigma(-200) = \\frac{1}{1 + e^{\\,-\\,-200}} = 1.38 \\times 10^{-87}$\n",
    "                <ul>\n",
    "                    <li>This is the probability that Craig belongs to the positive class.</li>\n",
    "                </ul>\n",
    "            </li>\n",
    "            <li>Threshold: Since $1.38 \\times 10^{-87} < 0.5$, this model predicts that Craig does belong\n",
    "                to the positive class.\n",
    "            </li>\n",
    "        </ul>\n",
    "    </li>\n",
    "    <li>And we can plot the decision boundary for this model \n",
    "        ($3200 - 40\\times\\mathit{lect} - 40\\times\\mathit{lab} + 0 \\times\\mathit{cao} = 0$):\n",
    "    </li>\n",
    "</ul>"
   ]
  },
  {
   "cell_type": "code",
   "execution_count": 5,
   "metadata": {},
   "outputs": [
    {
     "data": {
      "image/png": "[encoded data removed]",
      "text/plain": [
       "<Figure size 432x432 with 1 Axes>"
      ]
     },
     "metadata": {
      "needs_background": "light"
     },
     "output_type": "display_data"
    }
   ],
   "source": [
    "lects = df[\"lect\"]\n",
    "labs = df[\"lab\"]\n",
    "outcomes = df[\"outcome\"]\n",
    "\n",
    "fig = plt.figure(figsize=(6,6))\n",
    "plt.title(\"Training set, and the\\n decision boundary for one model\")\n",
    "plt.scatter(lects[outcomes==\"fail\"], labs[outcomes==\"fail\"], color = \"green\", marker=\"s\")\n",
    "plt.scatter(lects[outcomes==\"pass\"], labs[outcomes==\"pass\"], color = \"red\", marker=\"o\")\n",
    "xvals = np.linspace(0, 100, 2)\n",
    "plt.plot(xvals, 80 - xvals)\n",
    "plt.xlabel(\"Lecture attendance (%)\")\n",
    "plt.xlim(0, 100)\n",
    "plt.ylabel(\"Lab attendance (%)\")\n",
    "plt.ylim(0, 100)\n",
    "plt.show()"
   ]
  },
  {
   "cell_type": "markdown",
   "metadata": {},
   "source": [
    "<ul>\n",
    "    <li>What's your opinion of this model?</li>\n",
    "</ul>"
   ]
  },
  {
   "cell_type": "markdown",
   "metadata": {},
   "source": [
    "<h2>The Loss Function</h2>\n",
    "<ul>\n",
    "    <li>The logistic regression learning algorithm will take a labeled dataset and try to find good values\n",
    "        for $\\v{\\beta}$.\n",
    "    </li>\n",
    "    <li>It needs a loss function, which penalizes $h_{\\v{\\beta}}$ if \n",
    "        <ul>\n",
    "            <li>it outputs high probabilities for negative examples; and</li>\n",
    "            <li>it outputs low probabilities for positive examples.</li>\n",
    "        </ul>\n",
    "    </li>\n",
    "    <Li>The loss function that we will use is based around logarithms.</li>\n",
    "    <li>Let's see why logs are useful for defining a loss function.\n",
    "        <ul>\n",
    "             <li>The negative of the logarithm of a number grows large when the number approaches zero:\n",
    "            </li>\n",
    "        </ul>\n",
    "    </li>\n",
    "</ul>"
   ]
  },
  {
   "cell_type": "code",
   "execution_count": 6,
   "metadata": {},
   "outputs": [
    {
     "data": {
      "image/png": "[encoded data removed]",
      "text/plain": [
       "<Figure size 432x288 with 1 Axes>"
      ]
     },
     "metadata": {
      "needs_background": "light"
     },
     "output_type": "display_data"
    }
   ],
   "source": [
    "fig = plt.figure()\n",
    "plt.title(\"Log function\")\n",
    "xvals = np.linspace(0.01, 1, 99)\n",
    "plt.plot(xvals, [-log(xval) for xval in xvals], color = \"red\")\n",
    "plt.xlim(0, 1)\n",
    "plt.xlabel(\"x\")\n",
    "plt.ylabel(\"$\\log x$\")\n",
    "plt.show()"
   ]
  },
  {
   "cell_type": "markdown",
   "metadata": {},
   "source": [
    "<ul>\n",
    "    <li>We can use this in a loss function</li>\n",
    "</ul>"
   ]
  },
  {
   "cell_type": "markdown",
   "metadata": {
    "slideshow": {
     "slide_type": "slide"
    }
   },
   "source": [
    "<h2>The Loss Function, continued</h2>\n",
    "<ul>\n",
    "    <li>Consider a single training example $\\v{x}$ whose actual class $y = 1$.\n",
    "    <li>We want $h_{\\v{\\beta}}(\\v{x})$ to be high.\n",
    "        <ul>\n",
    "            <li>Why?</li>\n",
    "        </ul>\n",
    "    </li>\n",
    "    <li>So $-\\log(h_{\\v{\\beta}}(\\v{x}))$ is a useful loss function.\n",
    "        <ul>\n",
    "            <li>Why?</li>\n",
    "        </ul>\n",
    "    </li>\n",
    "</ul>   "
   ]
  },
  {
   "cell_type": "code",
   "execution_count": 7,
   "metadata": {},
   "outputs": [
    {
     "data": {
      "image/png": "[encoded data removed]",
      "text/plain": [
       "<Figure size 432x288 with 1 Axes>"
      ]
     },
     "metadata": {
      "needs_background": "light"
     },
     "output_type": "display_data"
    }
   ],
   "source": [
    "fig = plt.figure()\n",
    "plt.title(\"if $y = 1$\")\n",
    "xvals = np.linspace(0.01, 1, 99)\n",
    "plt.plot(xvals, [-log(xval) for xval in xvals], color = \"red\")\n",
    "plt.xlabel(\"$h$\")\n",
    "plt.xlim(0, 1)\n",
    "plt.ylabel(\"$J$\")\n",
    "plt.show()"
   ]
  },
  {
   "cell_type": "markdown",
   "metadata": {
    "slideshow": {
     "slide_type": "slide"
    }
   },
   "source": [
    "<h2>The Loss Function, continued</h2>\n",
    "<ul>\n",
    "    <li>Consider a single training example $\\v{x}$ whose actual class $y = 0$.\n",
    "    <li>We want $h_{\\v{\\beta}}(\\v{x})$ to be low.\n",
    "        <ul>\n",
    "            <li>Why?</li>\n",
    "        </ul>\n",
    "    </li>\n",
    "    <li>So $-\\log(1- (h_{\\v{\\beta}}(\\v{x})))$ is a useful loss function.\n",
    "        <ul>\n",
    "            <li>Why?</li>\n",
    "        </ul>\n",
    "    </li>\n",
    "</ul>   "
   ]
  },
  {
   "cell_type": "code",
   "execution_count": 8,
   "metadata": {},
   "outputs": [
    {
     "data": {
      "image/png": "[encoded data removed]",
      "text/plain": [
       "<Figure size 432x288 with 1 Axes>"
      ]
     },
     "metadata": {
      "needs_background": "light"
     },
     "output_type": "display_data"
    }
   ],
   "source": [
    "fig = plt.figure()\n",
    "plt.title(\"if $y = 0$\")\n",
    "plt.xlabel(\"$h$\")\n",
    "plt.xlim(0, 1)\n",
    "plt.ylabel(\"$J$\")\n",
    "xvals = np.linspace(0, 0.99, 99)\n",
    "plt.plot(xvals, [-log(1 - xval) for xval in xvals], color = \"red\")\n",
    "plt.show()"
   ]
  },
  {
   "cell_type": "markdown",
   "metadata": {
    "slideshow": {
     "slide_type": "slide"
    }
   },
   "source": [
    "<h2>The Loss Function, continued</h2>\n",
    "<ul>\n",
    "    <li>In summary, for a given example $\\v{x}$, we propose the following as the loss function\n",
    "        $$\\left\\{ \\begin{array}{rl}\n",
    "                  -\\log(h_{\\v{\\beta}}(\\v{x})) & \\mbox{if } y = 1 \\\\\n",
    "                  -\\log(1-h_{\\v{\\beta}}(\\v{x})) & \\mbox{if } y = 0\n",
    "                  \\end{array}\n",
    "          \\right.\n",
    "        $$\n",
    "        Or, equivalently:\n",
    "        $$-y\\log(h_{\\v{\\beta}}(\\v{x})) + -(1 - y)\\log(1-h_{\\v{\\beta}}(\\v{x}))$$\n",
    "        Or\n",
    "        $$-[y\\log(h_{\\v{\\beta}}(\\v{x})) + (1 - y)\\log(1-h_{\\v{\\beta}}(\\v{x}))]$$\n",
    "    </li>\n",
    "    <li>The overall loss function, $J$, is simply the average of this over all the training examples:\n",
    "        $$J(\\v{X}, \\v{y}, \\v{\\beta}) = - \\frac{1}{m}\\sum_{i=1}^m[\\v{y}^{(i)}\\log(h_{\\v{\\beta}}(\\v{x}^{(i)})) +\n",
    "                                                (1 - \\v{y}^{(i)})\\log(1 - h_{\\v{\\beta}}(\\v{x}^{(i)}))]$$\n",
    "    </li>\n",
    "    <li>This loss function is sometimes called the <b>log loss</b> fuction, or the <b>binary cross-entropy</b>\n",
    "        function.\n",
    "    </li>\n",
    "</ul>"
   ]
  },
  {
   "cell_type": "markdown",
   "metadata": {},
   "source": [
    "<h1>Gradient Descent</h1>\n",
    "<ul>\n",
    "    <li>So how do we find the hypothesis that minimizes this log loss function?\n",
    "        <ul>\n",
    "            <li>Happily, this function is convex.</li>\n",
    "            <li>But there is no equivalent to the Normal Equation, so we <em>must</em> use Gradient Descent.</li>\n",
    "            <li>Not that it matters, but here is the partial derivative of its loss function with respect \n",
    "                to $\\v{\\beta}_j$\n",
    "                $$\\frac{\\partial J}{\\partial\\v{\\beta}_j} =\n",
    "                  \\frac{1}{m}\\sum_{i=1}^m(\\v{x}^{(i)})\\v{\\beta}_j - \\v{y}^{(i)}) \\times \\v{x}_j^{(i)}$$\n",
    "            </li>\n",
    "            <li>Since we'll be using Gradient Descent, we must remember to scale our data.</li>\n",
    "        </ul>\n",
    "    </li>\n",
    "</ul>"
   ]
  },
  {
   "cell_type": "markdown",
   "metadata": {},
   "source": [
    "<h2>Logistic Regression in scikit-learn</h2>\n",
    "<ul>\n",
    "    <li>If you want fine-grained control over the learning rate and so on, then scikit-learn offers\n",
    "        you the <code>SGDClassifier</code> class.\n",
    "    </li>\n",
    "    <li>But most people use the <code>LogisticRegression</code> class, which sits on top of the\n",
    "        <code>SGDClassifier</code> class.\n",
    "    </li>\n",
    "    <li>If you want to use <b>regularization</b> with Logistic Regression, then there is a separate \n",
    "        scikit-learn class for ridge regression (<code>RidgeClassifier</code>) but none for lasso. But you can\n",
    "        instead use <code>LogisticRegression</code>, which has an argument called\n",
    "        <code>penalty</code>, whose possible values include <code>\"l1\"</code> and <code>\"l2\"</code>.\n",
    "        The amount of regularization is usually controlled by a hyperparameter called $\\lambda$\n",
    "        but called <code>alpha</code> in the <code>Lasso</code> and <code>Ridge</code> classes. For\n",
    "        <code>LogisticRegression</code>, this hyperparameter is called <code>C</code> and\n",
    "        <code>C</code> is the inverse of <code>alpha</code>, so small values mean more regularization!\n",
    "    </li>\n",
    "</ul>"
   ]
  },
  {
   "cell_type": "markdown",
   "metadata": {
    "slideshow": {
     "slide_type": "slide"
    }
   },
   "source": [
    "<h1>Multinomial Logistic Regression</h1>\n",
    "<ul>\n",
    "    <li>Logistic Regression is one of the few classifiers that can directly handle <b>multiclass\n",
    "        classification</b>.\n",
    "    </li>\n",
    "    <li>We must modify how the classifier works and the loss function for training.\n",
    "    </li>\n",
    "    <li>Now, instead of one vector of coefficients, $\\v{\\beta}$, the classifier has one <em>per class</em>,\n",
    "        $\\v{\\beta}_c$  for each $c \\in C$.\n",
    "    </li>\n",
    "    <li>Hence, instead of computing one value, $\\v{x}{\\v{\\beta}}$, it computes one per class,\n",
    "        $\\v{x}\\v{\\beta}_c$ for each $c \\in C$.\n",
    "    </li>\n",
    "    <li>Now, 'squashing' is more complicated:\n",
    "        <ul>\n",
    "            <li>Not only must each of these values be squashed to $[0,1]$;</li>\n",
    "            <li>but they must also sum to 1.</li>\n",
    "        </ul>\n",
    "        So we do not use the sigmoid function.\n",
    "    </li>\n",
    "    <li>We use the <b>softmax function</b> (but still often designated by $\\sigma$):\n",
    "        $$Prob(\\hat{y} = c\\, |\\, \\v{x}) = \\sigma(\\v{x}\\v{\\beta}_c) = \\frac{e^{\\v{x}\\v{\\beta}_c}}{\\sum_{c' \\in C} e^{\\v{x}\\v{\\beta}_{c'}}}$$\n",
    "    </li>\n",
    "    <li>(BTW, if we put all the different $\\v{\\beta}_c$ into a single matrix $\\v{B}$,\n",
    "        then we can have a vectorized implementation  of this.)\n",
    "    </li>\n",
    "    <li>Finally, there is no thresholding this time: the classifier simply predicts the class with the\n",
    "        highest estimated probability.\n",
    "    </li>\n",
    "    <li>If you like symbols, here it is all in one line:\n",
    "        $$\\hat{y} = \\argmax_{c \\in C}(\\sigma(\\v{x}\\v{\\beta}_c))$$\n",
    "    </li>\n",
    "    <li>(A saving: To work out the probabilities, you need the softmax formula given above. But if all you want to know is the winner, then all you need is $\\argmax_{c \\in C}(\\v{x}\\v{\\beta}_c)$ because the rest of the softmax formula makes no difference to the ordering.)</li>\n",
    "</ul>"
   ]
  },
  {
   "cell_type": "markdown",
   "metadata": {
    "slideshow": {
     "slide_type": "slide"
    }
   },
   "source": [
    "<h2>Loss Function</h2>\n",
    "<ul>\n",
    "    <li>So how does logistic regression learn all these different $\\v{\\beta}_c$?</li>\n",
    "    <li>We need a new loss function: the <b>cross-entropy loss function</b> (or sometimes\n",
    "        the <b>categorical cross-entropy function</b>):\n",
    "        $$J(\\v{X}, \\v{y}, \\v{B}) = -\\frac{1}{m}\\sum_{i=1}^m\\sum_{c \\in C}I(\\v{y}^{(i)} = c)\\log(\\sigma(\\v{x}^{(i)}\\v{\\beta}_c))$$\n",
    "        where $I(p)$ is the indicator function that outputs 1 if predicate $p$ is true and zero otherwise.\n",
    "     </li>\n",
    "     <li>The easiest way to get some grasp of this is to realise that when there are just two classes, it is\n",
    "         equivalent to the loss function we used earlier.\n",
    "    </li>\n",
    "</ul>"
   ]
  },
  {
   "cell_type": "markdown",
   "metadata": {},
   "source": [
    "<h2>Multiclass Logistic Regression in scikit-learn</h2>\n",
    "<ul>\n",
    "    <li>In scikit-learn, all binary classifiers can also be used for multiclass classification using \n",
    "        a method called <b>one-versus-rest</b> (see below).\n",
    "    </li>\n",
    "    <li>But for <code>LogisticRegression</code>, the default behaviour for multinomial regression is for it to choose  the cross-entropy \n",
    "        loss function.\n",
    "    </li>\n",
    "</ul>"
   ]
  },
  {
   "cell_type": "markdown",
   "metadata": {
    "slideshow": {
     "slide_type": "slide"
    }
   },
   "source": [
    "<h2>One-versus-Rest</h2>\n",
    "<ul>\n",
    "    <li><b>One-versus-Rest</b> (also called 'one-versus-all')\n",
    "        involves training $|C|$ binary classifiers, one per class:\n",
    "        <ul style=\"background-color: lightgrey\">\n",
    "            <li>\n",
    "                <b>for each</b> class $c \\in C$\n",
    "                <ul>\n",
    "                    <li>\n",
    "                        create a copy of the training set in which you replace examples \n",
    "                        $\\Tuple{\\v{x}, c}$ by $\\Tuple{\\v{x}, 1}$ and examples $\\Tuple{\\v{x}, c'}$ \n",
    "                        where $c' \\neq c$ by $\\Tuple{\\v{x}, 0}$\n",
    "                    </li>\n",
    "                    <li>\n",
    "                        train a binary classifier $h^c$ on this modified training set\n",
    "                    </li>\n",
    "                </ul>\n",
    "            </li>\n",
    "        </ul>\n",
    "    </li>\n",
    "    <li>After all these classifiers have been trained, to classify $\\v{x}$, we run all the classifiers \n",
    "        $h^c$ for each $c \\in C$.\n",
    "        <ul>\n",
    "            The predicted class of $\\v{x}$ is the class $c$ whose classifier $h^c$ predicts 1 with \n",
    "            highest probability.\n",
    "        </ul>\n",
    "    </li>\n",
    "    <li>How many classifiers would we end up building for a dataset where there are three classes?</li>\n",
    "    <li>Do you think kNN needs to use one-versus-rest, or do you think it can already handle\n",
    "        multi-class classification?\n",
    "    </li>\n",
    "</ul>"
   ]
  },
  {
   "cell_type": "markdown",
   "metadata": {
    "slideshow": {
     "slide_type": "slide"
    }
   },
   "source": [
    "<h2>One-versus-One</h2>\n",
    "<ul>\n",
    "    <li>In <b>One-versus-One</b> (also called 'pairwise classification'), \n",
    "        we build a classifier <em>for every pair</em> of classes using \n",
    "        only the training data for those two classes.\n",
    "    </li>\n",
    "    <li>After all these classifiers have been trained, when we want to classify $\\v{x}$, we run all \n",
    "        the classifiers and, for each class $c \\in C$, we count how many of the classifiers predict \n",
    "        that class.\n",
    "        <ul>\n",
    "            <li>The predicted class of $\\v{x}$ is the one that is predicted most often.\n",
    "            </li>\n",
    "        </ul>\n",
    "    </li>\n",
    "    <li>One-versus-One's advantage over One-versus-Rest is that the individual classifiers do not need \n",
    "        to be classifiers that produce probabilities.\n",
    "    </li>\n",
    "    <li>Its disadvantage is the number of individual classifiers it must train:\n",
    "        <ul>\n",
    "            <li>How many for a dataset that has three classes?</li>\n",
    "            <li>In terms of $|C|$, how many in general?</li>\n",
    "            <li>What offsets this, so that in practice it may be \n",
    "                quite feasible?\n",
    "            </li>\n",
    "        </ul>\n",
    "    </li>\n",
    "</ul>"
   ]
  },
  {
   "cell_type": "markdown",
   "metadata": {
    "slideshow": {
     "slide_type": "slide"
    }
   },
   "source": [
    "<h2>Multiclass Logistic Regression in scikit-learn</h2>\n",
    "<ul>\n",
    "    <li>For scikit-learn's binary classifiers, if you want to use one-versus-rest, then set \n",
    "        <code>multi-class=\"ovr\"</code> (which is often the default, but is not the default in the case of \n",
    "        <code>LogisticRegression</code>).\n",
    "    </li>\n",
    "    <li>There are also classes <code>OneVsRestClassifier</code> and <code>OneVsOneClassifier</code>.\n",
    "    </li>\n",
    "</ul>"
   ]
  },
  {
   "cell_type": "markdown",
   "metadata": {
    "slideshow": {
     "slide_type": "slide"
    }
   },
   "source": [
    "<h2>Which is better?</h2>\n",
    "<ul>\n",
    "    <li>Sometimes, even when you have a classifier, such as Logistic Regression, that can directly \n",
    "        handle multiclass classification, using it in a One-versus-One fashion can be more accurate! \n",
    "        (Have you any ideas why?)\n",
    "    </li>\n",
    "    <li>But one-versus-rest and one-verus-one have higher training costs.</li>\n",
    "</ul>"
   ]
  },
  {
   "cell_type": "code",
   "execution_count": null,
   "metadata": {},
   "outputs": [],
   "source": []
  }
 ],
 "metadata": {
  "celltoolbar": "Slideshow",
  "kernelspec": {
   "display_name": "Python 3 (ipykernel)",
   "language": "python",
   "name": "python3"
  },
  "language_info": {
   "codemirror_mode": {
    "name": "ipython",
    "version": 3
   },
   "file_extension": ".py",
   "mimetype": "text/x-python",
   "name": "python",
   "nbconvert_exporter": "python",
   "pygments_lexer": "ipython3",
   "version": "3.10.8"
  }
 },
 "nbformat": 4,
 "nbformat_minor": 1
}
