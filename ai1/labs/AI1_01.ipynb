{
 "cells": [
  {
   "cell_type": "markdown",
   "metadata": {},
   "source": [
    "<h1>01 Numpy</h1>\n",
    "$\\newcommand{\\Set}[1]{\\{#1\\}}$ \n",
    "$\\newcommand{\\Tuple}[1]{\\langle#1\\rangle}$ \n",
    "$\\newcommand{\\v}[1]{\\pmb{#1}}$ \n",
    "$\\newcommand{\\cv}[1]{\\begin{bmatrix}#1\\end{bmatrix}}$ \n",
    "$\\newcommand{\\rv}[1]{[#1]}$ \n",
    "$\\DeclareMathOperator{\\argmax}{arg\\,max}$ \n",
    "$\\DeclareMathOperator{\\argmin}{arg\\,min}$ \n",
    "$\\DeclareMathOperator{\\dist}{dist}$\n",
    "$\\DeclareMathOperator{\\abs}{abs}$"
   ]
  },
  {
   "cell_type": "markdown",
   "metadata": {},
   "source": [
    "<h2>Preliminaries</h2>\n",
    "<p>\n",
    "    One of my first code cells always looks like this:\n",
    "</p>"
   ]
  },
  {
   "cell_type": "code",
   "execution_count": 1,
   "metadata": {},
   "outputs": [],
   "source": [
    "%load_ext autoreload\n",
    "%autoreload 2\n",
    "%matplotlib inline"
   ]
  },
  {
   "cell_type": "markdown",
   "metadata": {},
   "source": [
    "<p>\n",
    "    The first two lines mean that modules get reloaded before executing anything. So if I have my own module\n",
    "    and I change it in an editor, then I can run the code without worrying about how to reload the changed\n",
    "    module: it's done automatically.\n",
    "</p>\n",
    "<p>\n",
    "    The third line says that when we draw graphs, they will appear in the notebook itself, not in a separate\n",
    "    window.\n",
    "</p>"
   ]
  },
  {
   "cell_type": "markdown",
   "metadata": {},
   "source": [
    "<p>\n",
    "    My next cell usually contains these three imports:\n",
    "</p>"
   ]
  },
  {
   "cell_type": "code",
   "execution_count": 2,
   "metadata": {},
   "outputs": [],
   "source": [
    "import pandas as pd\n",
    "import numpy as np\n",
    "import matplotlib.pyplot as plt"
   ]
  },
  {
   "cell_type": "markdown",
   "metadata": {},
   "source": [
    "<p>\n",
    "    My third code cell also contains <code>import</code> statements, ones that are specific to this notebook. \n",
    "    Here's an example:\n",
    "</p>"
   ]
  },
  {
   "cell_type": "code",
   "execution_count": 3,
   "metadata": {},
   "outputs": [],
   "source": [
    "from math import sqrt"
   ]
  },
  {
   "cell_type": "markdown",
   "metadata": {},
   "source": [
    "<p>\n",
    "    So now we can compute square roots:\n",
    "</p>"
   ]
  },
  {
   "cell_type": "code",
   "execution_count": 4,
   "metadata": {},
   "outputs": [
    {
     "data": {
      "text/plain": [
       "5.0"
      ]
     },
     "execution_count": 4,
     "metadata": {},
     "output_type": "execute_result"
    }
   ],
   "source": [
    "sqrt(25)"
   ]
  },
  {
   "cell_type": "markdown",
   "metadata": {},
   "source": [
    "<h2>Numpy</h2>\n",
    "<p>\n",
    "    Numpy is short for Numerical Python. It offers <code>ndarray</code>, which is a fast and space-efficient\n",
    "    multidimensional array providing vectorized arithmetic operations, among other things. Pandas is built atop\n",
    "    of numpy, and is somehwat more high-level; scikit-learn uses numpy ndarrays as its main data structure;\n",
    "    matplotlib works with numpy arrays also.\n",
    "</p>"
   ]
  },
  {
   "cell_type": "markdown",
   "metadata": {},
   "source": [
    "<h2>Exercises</h2>\n",
    "<ol>\n",
    "    <li>\n",
    "        Let\n",
    "        $$\\v{u} = \\cv{2\\\\-7\\\\1}\\,\\,\\,\n",
    "          \\v{v} = \\cv{-3\\\\0\\\\4}$$\n",
    "        and\n",
    "        $$\\v{A} =  \\begin{bmatrix}\n",
    "                      1 &  2 & 0 \\\\\n",
    "                      3 & -1 & 4\n",
    "                  \\end{bmatrix}\\,\\,\\,\n",
    "           \\v{B} = \\begin{bmatrix}\n",
    "                       2 & -1 \\\\\n",
    "                       1 &  0 \\\\\n",
    "                      -3 & 4\n",
    "                \\end{bmatrix}$$\n",
    "        Use numpy to compute:\n",
    "        <ol>\n",
    "            <li>$\\v{u} + \\v{v}$</li>\n",
    "            <li>$-3\\v{u}$</li>\n",
    "            <li>$\\v{u}\\v{v}$ (Strictly, we should write $\\v{u}^T\\v{v}$. Why? But it is common to write it without the transpose.)</li>\n",
    "            <li>$\\v{u}\\v{u}$</li>\n",
    "            <li>$\\sqrt{\\v{u}\\v{u}}$</li>\n",
    "            <li>$\\v{u} * \\v{v}$</li>\n",
    "            <li>$\\v{A} + \\v{A}$</li>\n",
    "            <li>$\\v{A} + \\v{u}$</li>\n",
    "            <li>$10\\v{A}$</li>\n",
    "            <li>$\\v{A}\\v{v}$</li>\n",
    "            <li>$\\v{A}\\v{B}$</li>\n",
    "            <li>$\\v{A}^T$</li>\n",
    "            <li>$\\v{A}\\v{A}^T$</li>\n",
    "            <li>$\\v{A}^T\\v{A}$</li>\n",
    "            <li>the smallest element in $\\v{u}$</li>\n",
    "            <li>the index of the smallest element in $\\v{u}$</li>\n",
    "            <li>the mean of the values in $\\v{u}$</li>\n",
    "        </ol>\n",
    "    </li>\n",
    "    <li>Play with the <code>cumsum</code> method on 1-dimensional numpy arrays. Then define a Python function\n",
    "        that does the same thing for regular Python lists. Then compare how long they take to run on an \n",
    "        array/list that contains all the integers from 1 to 1000 inclusive.\n",
    "    </li>\n",
    "</ol>"
   ]
  },
  {
   "cell_type": "code",
   "execution_count": 5,
   "metadata": {},
   "outputs": [
    {
     "data": {
      "text/plain": [
       "array([-1, -7,  5])"
      ]
     },
     "execution_count": 5,
     "metadata": {},
     "output_type": "execute_result"
    }
   ],
   "source": [
    "u = np.array([2,-7,1])\n",
    "v = np.array([-3,0,4])\n",
    "\n",
    "u + v"
   ]
  },
  {
   "cell_type": "code",
   "execution_count": 6,
   "metadata": {},
   "outputs": [],
   "source": [
    "def cumsum(L):\n",
    "    total = 0\n",
    "    NewList = []\n",
    "    for x in L:\n",
    "        total += x\n",
    "        NewList.append(total)\n",
    "    return NewList"
   ]
  },
  {
   "cell_type": "code",
   "execution_count": 7,
   "metadata": {},
   "outputs": [
    {
     "data": {
      "text/plain": [
       "[1, 3, 6, 10]"
      ]
     },
     "execution_count": 7,
     "metadata": {},
     "output_type": "execute_result"
    }
   ],
   "source": [
    "x = [1,2,3,4]\n",
    "\n",
    "cumsum(x)"
   ]
  },
  {
   "cell_type": "code",
   "execution_count": 8,
   "metadata": {},
   "outputs": [
    {
     "name": "stdout",
     "output_type": "stream",
     "text": [
      "430 ns ± 24.6 ns per loop (mean ± std. dev. of 7 runs, 1,000,000 loops each)\n"
     ]
    }
   ],
   "source": [
    "%timeit cumsum(x)"
   ]
  },
  {
   "cell_type": "code",
   "execution_count": 9,
   "metadata": {},
   "outputs": [
    {
     "name": "stdout",
     "output_type": "stream",
     "text": [
      "2.63 µs ± 100 ns per loop (mean ± std. dev. of 7 runs, 100,000 loops each)\n"
     ]
    }
   ],
   "source": [
    "x = np.arange(1, 101)\n",
    "\n",
    "%timeit np.cumsum(x)"
   ]
  },
  {
   "cell_type": "code",
   "execution_count": null,
   "metadata": {},
   "outputs": [],
   "source": []
  }
 ],
 "metadata": {
  "kernelspec": {
   "display_name": "Python 3 (ipykernel)",
   "language": "python",
   "name": "python3"
  },
  "language_info": {
   "codemirror_mode": {
    "name": "ipython",
    "version": 3
   },
   "file_extension": ".py",
   "mimetype": "text/x-python",
   "name": "python",
   "nbconvert_exporter": "python",
   "pygments_lexer": "ipython3",
   "version": "3.10.8"
  }
 },
 "nbformat": 4,
 "nbformat_minor": 1
}
